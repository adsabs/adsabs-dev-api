{
 "cells": [
  {
   "cell_type": "markdown",
   "metadata": {},
   "source": [
    "## Converting `curl` requests to Python requests\n",
    "All examples in these notebooks are given using `curl` statements from the shell command line. However, using the `requests` package in Python, it is possible to rewrite any of these `curl` statements and run them in Python. Some examples are given here. For more information about the `requests` package, please see their [official documentation](http://docs.python-requests.org/en/master/). If you're looking for a more robust Python package for ADS requests, see the [unofficial ADS Python package](http://ads.readthedocs.io/).\n",
    "\n",
    "Note: all examples are taken from other notebooks in this repository and converted to Python. See the original notebooks for more information about each query and for more query examples.\n",
    "\n",
    "### Contents\n",
    "* [Search API examples](#Examples---Search-API)\n",
    "* [Metrics API examples](#Examples---Metrics-API)\n",
    "* [Export API examples](#Examples---Export-API)\n",
    "* [Libraries API examples](#Examples---Library-API)"
   ]
  },
  {
   "cell_type": "markdown",
   "metadata": {},
   "source": [
    "### Examples - Search API\n",
    "[Full Search API notebook and examples](Search_API.ipynb)\n",
    "#### Get search results"
   ]
  },
  {
   "cell_type": "code",
   "execution_count": 1,
   "metadata": {},
   "outputs": [
    {
     "name": "stdout",
     "output_type": "stream",
     "text": [
      "{u'responseHeader': {u'status': 0, u'QTime': 1015, u'params': {u'x-amzn-trace-id': u'Root=1-5ccc81d3-3250564a86c43b181d6442e6', u'rows': u'1', u'q': u'author:mart\\xednez neutron star', u'start': u'0', u'wt': u'json', u'fl': u'author'}}, u'response': {u'start': 0, u'numFound': 179, u'docs': [{u'author': [u'P\\xe9rez Rojas, Hugo', u'Mart\\xednez, Aurora P\\xe9rez', u'Mesquita, Alexandre', u'Razeira, Mois\\xe9s', u'Gomes, Rosana O.', u'Vasconcellos, C\\xe9sar A. Z.']}]}}\n"
     ]
    }
   ],
   "source": [
    "import requests\n",
    "\n",
    "token=\"your-token-here\"\n",
    "# the query parameters can be included as part of the URL\n",
    "r = requests.get(\"https://api.adsabs.harvard.edu/v1/search/query?q=author%3Amart%C3%ADnez+neutron+star&fl=author&rows=1\",\\\n",
    "                headers={'Authorization': 'Bearer ' + token})\n",
    "# the requests package returns an object; to get just the JSON API response, you have to specify this\n",
    "print(r.json())\n"
   ]
  },
  {
   "cell_type": "markdown",
   "metadata": {},
   "source": [
    "#### Post a large identifier query"
   ]
  },
  {
   "cell_type": "code",
   "execution_count": 2,
   "metadata": {},
   "outputs": [
    {
     "name": "stdout",
     "output_type": "stream",
     "text": [
      "{u'responseHeader': {u'status': 0, u'QTime': 30, u'params': {u'x-amzn-trace-id': u'Root=1-5ccc81d8-a26813d03b9c5d6401eaab94', u'rows': u'2000', u'fq': u'{!bitset}', u'q': u'*:*', u'start': u'0', u'wt': u'json', u'fl': u'bibcode,title'}}, u'response': {u'start': 0, u'numFound': 3, u'docs': [{u'bibcode': u'1907AN....174...59.', u'title': [u'Kleine Mitteilungen']}, {u'bibcode': u'1908PA.....16..445.', u'title': [u'Variable Stars']}, {u'bibcode': u'1989LNP...334..242S', u'title': [u'The Optical and Radio Properties of X-Ray Selected Bl-Lacertae Objects']}]}}\n"
     ]
    }
   ],
   "source": [
    "# the query parameters can also be passed separately as a dictionary with the `params` keyword\n",
    "bibcodes = \"bibcode\\n1907AN....174...59.\\n1908PA.....16..445.\\n1989LNP...334..242S\"\n",
    "r = requests.post(\"https://api.adsabs.harvard.edu/v1/search/bigquery\",\\\n",
    "                 params={\"q\":\"*:*\", \"fl\": \"bibcode,title\", \"rows\":2000},\n",
    "                 headers={'Authorization': 'Bearer ' + token, 'Content-Type': 'big-query/csv'},\n",
    "                 data=bibcodes)\n",
    "print(r.json())"
   ]
  },
  {
   "cell_type": "markdown",
   "metadata": {},
   "source": [
    "### Examples - Metrics API\n",
    "[Full Metrics API notebook and examples](Metrics_API.ipynb)\n",
    "\n",
    "**Get all metrics for a single bibcode**"
   ]
  },
  {
   "cell_type": "code",
   "execution_count": 3,
   "metadata": {},
   "outputs": [
    {
     "name": "stdout",
     "output_type": "stream",
     "text": [
      "{u'basic stats': {u'median number of downloads': 8134.0, u'average number of reads': 19652.0, u'normalized paper count': 0.058823529411764705, u'recent number of reads': 454, u'number of papers': 1, u'recent number of downloads': 144, u'total number of reads': 19652, u'median number of reads': 19652.0, u'total number of downloads': 8134, u'average number of downloads': 8134.0}, u'citation stats refereed': {u'normalized number of citations': 513.5294117647059, u'average number of refereed citations': 7500.0, u'median number of citations': 8730.0, u'median number of refereed citations': 7500.0, u'number of citing papers': 8730, u'average number of citations': 8730.0, u'total number of refereed citations': 7500, u'normalized number of refereed citations': 441.1764705882353, u'number of self-citations': 0, u'total number of citations': 8730}, u'histograms': {u'reads': {u'all reads normalized': {u'2018': 26.705882352941178, u'2015': 43.705882352941174, u'2014': 54.05882352941177, u'2017': 46.294117647058826, u'2016': 46.88235294117647, u'2011': 80.47058823529412, u'2010': 79.70588235294117, u'2013': 54.64705882352941, u'2012': 79.29411764705883, u'1997': 0.0, u'1996': 0.0, u'1999': 0.0, u'1998': 0.0, u'2002': 0.0, u'2003': 49.35294117647059, u'2000': 0.0, u'2001': 0.0, u'2006': 112.29411764705883, u'2007': 101.11764705882354, u'2004': 117.58823529411765, u'2005': 108.11764705882354, u'2008': 82.6470588235294, u'2009': 73.11764705882354}, u'refereed reads': {u'2018': 454, u'2015': 743, u'2014': 919, u'2017': 787, u'2016': 797, u'2011': 1368, u'2010': 1355, u'2013': 929, u'2012': 1348, u'1997': 0, u'1996': 0, u'1999': 0, u'1998': 0, u'2002': 0, u'2003': 839, u'2000': 0, u'2001': 0, u'2006': 1909, u'2007': 1719, u'2004': 1999, u'2005': 1838, u'2008': 1405, u'2009': 1243}, u'all reads': {u'2018': 454, u'2015': 743, u'2014': 919, u'2017': 787, u'2016': 797, u'2011': 1368, u'2010': 1355, u'2013': 929, u'2012': 1348, u'1997': 0, u'1996': 0, u'1999': 0, u'1998': 0, u'2002': 0, u'2003': 839, u'2000': 0, u'2001': 0, u'2006': 1909, u'2007': 1719, u'2004': 1999, u'2005': 1838, u'2008': 1405, u'2009': 1243}, u'refereed reads normalized': {u'2018': 26.705882352941178, u'2015': 43.705882352941174, u'2014': 54.05882352941177, u'2017': 46.294117647058826, u'2016': 46.88235294117647, u'2011': 80.47058823529412, u'2010': 79.70588235294117, u'2013': 54.64705882352941, u'2012': 79.29411764705883, u'1997': 0.0, u'1996': 0.0, u'1999': 0.0, u'1998': 0.0, u'2002': 0.0, u'2003': 49.35294117647059, u'2000': 0.0, u'2001': 0.0, u'2006': 112.29411764705883, u'2007': 101.11764705882354, u'2004': 117.58823529411765, u'2005': 108.11764705882354, u'2008': 82.6470588235294, u'2009': 73.11764705882354}}, u'citations': {u'refereed to nonrefereed': {u'2016': 0, u'2017': 0, u'2018': 0, u'2002': 0, u'2003': 0, u'2001': 0, u'2006': 0, u'2007': 0, u'2004': 0, u'2005': 0, u'2015': 0, u'2014': 0, u'2008': 0, u'2009': 0, u'2011': 0, u'2010': 0, u'2013': 0, u'2012': 0}, u'nonrefereed to nonrefereed': {u'2016': 0, u'2017': 0, u'2018': 0, u'2002': 0, u'2003': 0, u'2001': 0, u'2006': 0, u'2007': 0, u'2004': 0, u'2005': 0, u'2015': 0, u'2014': 0, u'2008': 0, u'2009': 0, u'2011': 0, u'2010': 0, u'2013': 0, u'2012': 0}, u'nonrefereed to nonrefereed normalized': {u'2009': 0, u'2014': 0, u'2010': 0, u'2002': 0, u'2003': 0, u'2001': 0, u'2006': 0, u'2018': 0, u'2004': 0, u'2005': 0, u'2015': 0, u'2012': 0, u'2017': 0, u'2016': 0, u'2011': 0, u'2008': 0, u'2013': 0, u'2007': 0}, u'nonrefereed to refereed': {u'2016': 35, u'2017': 39, u'2018': 42, u'2002': 2, u'2003': 95, u'2001': 0, u'2006': 152, u'2007': 101, u'2004': 148, u'2005': 237, u'2015': 34, u'2014': 30, u'2008': 75, u'2009': 70, u'2011': 35, u'2010': 52, u'2013': 36, u'2012': 47}, u'refereed to refereed normalized': {u'2009': 27.176470588235205, u'2014': 16.588235294117595, u'2010': 24.176470588235215, u'2002': 0, u'2003': 22.29411764705875, u'2001': 0.058823529411764705, u'2006': 58.64705882353082, u'2018': 5.176470588235283, u'2004': 58.35294117647198, u'2005': 60.35294117647209, u'2015': 14.705882352941131, u'2012': 20.117647058823465, u'2017': 10.999999999999968, u'2016': 11.999999999999964, u'2011': 21.294117647058755, u'2008': 31.352941176470484, u'2013': 18.647058823529353, u'2007': 39.23529411764736}, u'refereed to nonrefereed normalized': {u'2009': 0, u'2014': 0, u'2010': 0, u'2002': 0, u'2003': 0, u'2001': 0, u'2006': 0, u'2018': 0, u'2004': 0, u'2005': 0, u'2015': 0, u'2012': 0, u'2017': 0, u'2016': 0, u'2011': 0, u'2008': 0, u'2013': 0, u'2007': 0}, u'refereed to refereed': {u'2016': 204, u'2017': 187, u'2018': 88, u'2002': 0, u'2003': 379, u'2001': 1, u'2006': 997, u'2007': 667, u'2004': 992, u'2005': 1026, u'2015': 250, u'2014': 282, u'2008': 533, u'2009': 462, u'2011': 362, u'2010': 411, u'2013': 317, u'2012': 342}, u'nonrefereed to refereed normalized': {u'2009': 4.117647058823522, u'2014': 1.7647058823529413, u'2010': 3.058823529411761, u'2002': 0.11764705882352941, u'2003': 5.588235294117634, u'2001': 0, u'2006': 8.94117647058821, u'2018': 2.470588235294116, u'2004': 8.705882352941153, u'2005': 13.941176470588193, u'2015': 2.0, u'2012': 2.7647058823529385, u'2017': 2.2941176470588225, u'2016': 2.0588235294117645, u'2011': 2.0588235294117645, u'2008': 4.411764705882344, u'2013': 2.117647058823529, u'2007': 5.941176470588221}}}, u'citation stats': {u'number of self-citations': 0, u'average number of refereed citations': 7500.0, u'median number of citations': 8730.0, u'self-citations': [], u'number of citing papers': 8730, u'average number of citations': 8730.0, u'total number of refereed citations': 7500, u'normalized number of refereed citations': 441.1764705882353, u'median number of refereed citations': 7500.0, u'total number of citations': 8730, u'normalized number of citations': 513.5294117647059}, u'basic stats refereed': {u'median number of downloads': 8134.0, u'average number of reads': 19652.0, u'normalized paper count': 0.058823529411764705, u'recent number of reads': 454, u'number of papers': 1, u'recent number of downloads': 144, u'total number of reads': 19652, u'median number of reads': 19652.0, u'total number of downloads': 8134, u'average number of downloads': 8134.0}, u'skipped bibcodes': []}\n"
     ]
    }
   ],
   "source": [
    "import json\n",
    "\n",
    "# to pass a dictionary in the request payload, convert it to a string first using the json package\n",
    "bibcode = {\"bibcodes\":[\"2003ApJS..148..175S\"]}\n",
    "r = requests.post(\"https://api.adsabs.harvard.edu/v1/metrics\", \\\n",
    "                 headers={\"Authorization\": \"Bearer \" + token, \"Content-type\": \"application/json\"}, \\\n",
    "                 data=json.dumps(bibcode))\n",
    "print(r.json())"
   ]
  },
  {
   "cell_type": "markdown",
   "metadata": {},
   "source": [
    "** Get data for a single histogram for multiple bibcodes**"
   ]
  },
  {
   "cell_type": "code",
   "execution_count": 4,
   "metadata": {},
   "outputs": [
    {
     "name": "stdout",
     "output_type": "stream",
     "text": [
      "{u'skipped bibcodes': [], u'histograms': {u'citations': {u'refereed to nonrefereed': {u'2016': 0, u'2017': 0, u'2018': 0, u'2002': 0, u'2003': 0, u'2001': 0, u'2006': 0, u'2007': 0, u'2004': 0, u'2005': 0, u'2015': 0, u'2014': 0, u'2008': 0, u'2009': 0, u'2011': 0, u'2010': 0, u'2013': 0, u'2012': 0}, u'nonrefereed to nonrefereed': {u'2016': 0, u'2017': 0, u'2018': 0, u'2002': 0, u'2003': 0, u'2001': 0, u'2006': 0, u'2007': 0, u'2004': 0, u'2005': 0, u'2015': 0, u'2014': 0, u'2008': 0, u'2009': 0, u'2011': 0, u'2010': 0, u'2013': 0, u'2012': 0}, u'nonrefereed to nonrefereed normalized': {u'2009': 0, u'2014': 0, u'2010': 0, u'2002': 0, u'2003': 0, u'2001': 0, u'2006': 0, u'2018': 0, u'2004': 0, u'2005': 0, u'2015': 0, u'2012': 0, u'2017': 0, u'2016': 0, u'2011': 0, u'2008': 0, u'2013': 0, u'2007': 0}, u'nonrefereed to refereed': {u'2016': 56, u'2017': 74, u'2018': 74, u'2002': 2, u'2003': 95, u'2001': 0, u'2006': 273, u'2007': 294, u'2004': 148, u'2005': 238, u'2015': 57, u'2014': 53, u'2008': 239, u'2009': 184, u'2011': 85, u'2010': 119, u'2013': 66, u'2012': 83}, u'refereed to refereed normalized': {u'2009': 57.085561497326964, u'2014': 25.815508021390585, u'2010': 47.54010695187224, u'2002': 0, u'2003': 22.29411764705875, u'2001': 0.058823529411764705, u'2006': 78.69251336898593, u'2018': 7.994652406417126, u'2004': 58.35294117647198, u'2005': 60.35294117647209, u'2015': 22.56951871657767, u'2012': 34.16310160427841, u'2017': 16.954545454545396, u'2016': 18.181818181818166, u'2011': 40.157754010695655, u'2008': 83.21657754010832, u'2013': 31.147058823529708, u'2007': 87.82620320855783}, u'refereed to nonrefereed normalized': {u'2009': 0, u'2014': 0, u'2010': 0, u'2002': 0, u'2003': 0, u'2001': 0, u'2006': 0, u'2018': 0, u'2004': 0, u'2005': 0, u'2015': 0, u'2012': 0, u'2017': 0, u'2016': 0, u'2011': 0, u'2008': 0, u'2013': 0, u'2007': 0}, u'refereed to refereed': {u'2016': 340, u'2017': 318, u'2018': 150, u'2002': 0, u'2003': 379, u'2001': 1, u'2006': 1438, u'2007': 1736, u'2004': 992, u'2005': 1026, u'2015': 423, u'2014': 485, u'2008': 1674, u'2009': 1120, u'2011': 777, u'2010': 925, u'2013': 592, u'2012': 651}, u'nonrefereed to refereed normalized': {u'2009': 9.299465240641725, u'2014': 2.810160427807486, u'2010': 6.104278074866325, u'2002': 0.11764705882352941, u'2003': 5.588235294117634, u'2001': 0, u'2006': 14.441176470588152, u'2018': 3.9251336898395692, u'2004': 8.705882352941153, u'2005': 13.986631016042738, u'2015': 3.0454545454545445, u'2012': 4.401069518716577, u'2017': 3.885026737967912, u'2016': 3.013368983957218, u'2011': 4.331550802139039, u'2008': 11.866310160427789, u'2013': 3.4812834224598914, u'2007': 14.713903743315441}}}}\n"
     ]
    }
   ],
   "source": [
    "# to pass a dictionary in the request payload, convert it to a string first using the json package\n",
    "payload = {\"bibcodes\":[\"2003ApJS..148..175S\", \"2007ApJS..170..377S\"], \\\n",
    "           \"types\":[\"histograms\"], \"histograms\":[\"citations\"]}\n",
    "r = requests.post(\"https://api.adsabs.harvard.edu/v1/metrics\", \\\n",
    "                 headers={\"Authorization\": \"Bearer \" + token, \"Content-type\": \"application/json\"}, \\\n",
    "                 data=json.dumps(payload))\n",
    "print(r.json())"
   ]
  },
  {
   "cell_type": "markdown",
   "metadata": {},
   "source": [
    "# Examples - Export API \n",
    "[Full Export API notebook and examples](Export_API.ipynb)\n",
    "\n",
    "**Get the BibTeX entry for a single bibcode**"
   ]
  },
  {
   "cell_type": "code",
   "execution_count": 5,
   "metadata": {},
   "outputs": [
    {
     "name": "stdout",
     "output_type": "stream",
     "text": [
      "{u'msg': u'Retrieved 1 abstracts, starting with number 1.', u'export': u'@ARTICLE{2015RaSc...50..916A,\\n       author = {{Ads}, A.~G. and {Bergad{\\\\`a}}, P. and {Regu{\\\\\\'e}}, J.~R. and {Alsina-\\n        Pag{\\\\`e}s}, R.~M. and {Pijoan}, J.~L. and {Altadill}, D. and\\n        {Badia}, D. and {Graells}, S.},\\n        title = \"{Vertical and oblique ionospheric soundings over the long haul HF link\\n        between Antarctica and Spain}\",\\n      journal = {Radio Science},\\n     keywords = {VIS, OIS, ionosphere},\\n         year = 2015,\\n        month = Sep,\\n       volume = {50},\\n        pages = {916-930},\\n          doi = {10.1002/2015RS005773},\\n       adsurl = {https://ui.adsabs.harvard.edu/#abs/2015RaSc...50..916A},\\n      adsnote = {Provided by the SAO/NASA Astrophysics Data System}\\n}\\n\\n'}\n"
     ]
    }
   ],
   "source": [
    "bibcode = {\"bibcode\":[\"2015RaSc...50..916A\"]}\n",
    "r = requests.post(\"https://api.adsabs.harvard.edu/v1/export/bibtex\", \\\n",
    "                 headers={\"Authorization\": \"Bearer \" + token, \"Content-type\": \"application/json\"}, \\\n",
    "                 data=json.dumps(bibcode))\n",
    "print(r.json())"
   ]
  },
  {
   "cell_type": "markdown",
   "metadata": {},
   "source": [
    "** Get the AASTeX entries for multiple bibcodes**"
   ]
  },
  {
   "cell_type": "code",
   "execution_count": 6,
   "metadata": {
    "scrolled": true
   },
   "outputs": [
    {
     "name": "stdout",
     "output_type": "stream",
     "text": [
      "{u'msg': u'Retrieved 3 abstracts, starting with number 1.', u'export': u'\\\\bibitem[Accomazzi, et al.(2000)]{2000A&AS..143...85A} Accomazzi, A., Eichhorn, G., Kurtz, M.~J., et al.\\\\ 2000, Astronomy and Astrophysics Supplement Series, 143, 85.\\n\\\\bibitem[Grant, et al.(2000)]{2000A&AS..143..111G} Grant, C.~S., Accomazzi, A., Eichhorn, G., et al.\\\\ 2000, Astronomy and Astrophysics Supplement Series, 143, 111.\\n\\\\bibitem[Kurtz, et al.(2000)]{2000A&AS..143...41K} Kurtz, M.~J., Eichhorn, G., Accomazzi, A., et al.\\\\ 2000, Astronomy and Astrophysics Supplement Series, 143, 41.\\n'}\n"
     ]
    }
   ],
   "source": [
    "# get the AASTeX entries for multiple bibcodes\n",
    "payload = {\"bibcode\":[\"2000A&AS..143...41K\", \"2000A&AS..143...85A\", \"2000A&AS..143..111G\"],\\\n",
    "          \"sort\": \"first_author asc\"}\n",
    "r = requests.post(\"https://api.adsabs.harvard.edu/v1/export/aastex\", \\\n",
    "                 headers={\"Authorization\": \"Bearer \" + token, \"Content-type\": \"application/json\"}, \\\n",
    "                 data=json.dumps(payload))\n",
    "print(r.json())"
   ]
  },
  {
   "cell_type": "markdown",
   "metadata": {},
   "source": [
    "**Get custom formatted entries for multiple bibcodes**"
   ]
  },
  {
   "cell_type": "code",
   "execution_count": 7,
   "metadata": {},
   "outputs": [
    {
     "name": "stdout",
     "output_type": "stream",
     "text": [
      "{u'msg': u'Retrieved 3 abstracts, starting with number 1.', u'export': u'Accomazzi, Eichhorn, Kurtz, Grant \\\\& Murray 2000\\nGrant, Accomazzi, Eichhorn, Kurtz \\\\& Murray 2000\\nKurtz, Eichhorn, Accomazzi, Grant, Murray \\\\& Watson 2000\\n\\n'}\n"
     ]
    }
   ],
   "source": [
    "payload = {\"bibcode\":[\"2000A&AS..143...41K\", \"2000A&AS..143...85A\", \"2000A&AS..143..111G\"],\\\n",
    "          \"sort\": \"first_author asc\",\\\n",
    "          \"format\": \"%m %Y\"}\n",
    "r = requests.post(\"https://api.adsabs.harvard.edu/v1/export/custom\", \\\n",
    "                 headers={\"Authorization\": \"Bearer \" + token, \"Content-type\": \"application/json\"}, \\\n",
    "                 data=json.dumps(payload))\n",
    "print(r.json())"
   ]
  },
  {
   "cell_type": "markdown",
   "metadata": {},
   "source": [
    "# Examples - Library API\n",
    "[Full Libraries API notebook and examples](Libraries_API.ipynb)\n",
    "\n",
    "**Get all your libraries**"
   ]
  },
  {
   "cell_type": "code",
   "execution_count": 8,
   "metadata": {},
   "outputs": [
    {
     "name": "stdout",
     "output_type": "stream",
     "text": [
      "{u'libraries': [{u'num_documents': 163, u'description': u'Papers about ADS', u'name': u'ADS', u'permission': u'owner', u'id': u'ZX9Mgv67QSyS6GfuYLjB7w', u'num_users': 1, u'owner': u'test.user-api', u'date_created': u'2018-06-28T15:30:24.764684', u'public': False, u'date_last_modified': u'2018-06-28T15:33:01.545962'}, {u'num_documents': 100, u'description': u'My ADS library', u'name': u'WMAP', u'permission': u'owner', u'id': u'HNHFavGNS3izENGEbGDJCA', u'num_users': 1, u'owner': u'test.user-api', u'date_created': u'2018-06-28T15:31:12.741894', u'public': False, u'date_last_modified': u'2018-06-28T15:32:10.641190'}]}\n"
     ]
    }
   ],
   "source": [
    "lib_token = \"your-token-here\"\n",
    "r = requests.get(\"https://api.adsabs.harvard.edu/v1/biblib/libraries\", \\\n",
    "                 headers={\"Authorization\": \"Bearer \" + lib_token})\n",
    "print(r.json())"
   ]
  },
  {
   "cell_type": "markdown",
   "metadata": {},
   "source": [
    "**Get data for a specific library**"
   ]
  },
  {
   "cell_type": "code",
   "execution_count": 9,
   "metadata": {},
   "outputs": [
    {
     "name": "stdout",
     "output_type": "stream",
     "text": [
      "{u'documents': [u'2018AAS...23221409A', u'2018arXiv180303598K', u'2018AAS...23130709A', u'2018AAS...23136217A', u'2017arXiv171008505A', u'2017arXiv170909566R', u'2016arXiv160107858A', u'2015scop.confE...3A', u'2015ASPC..495..401C', u'2015IAUGA..2257639R', u'2015IAUGA..2257982A', u'2015IAUGA..2257768A', u'2015ASPC..492..208G', u'2015ASPC..492...85E', u'2015ASPC..492..150T', u'2015ASPC..492..189A', u'2015ASPC..492...80H', u'2015AAS...22533655A', u'2014AAS...22325503A', u'2014AAS...22325525A'], u'solr': {u'responseHeader': {u'status': 0, u'QTime': 22, u'params': {u'sort': u'date desc', u'fq': u'{!bitset}', u'rows': u'20', u'q': u'*:*', u'start': u'0', u'wt': u'json', u'fl': u'bibcode,alternate_bibcode'}}, u'response': {u'start': 0, u'numFound': 163, u'docs': [{u'bibcode': u'2018AAS...23221409A'}, {u'bibcode': u'2018arXiv180303598K'}, {u'bibcode': u'2018AAS...23130709A'}, {u'bibcode': u'2018AAS...23136217A'}, {u'bibcode': u'2017arXiv171008505A'}, {u'bibcode': u'2017arXiv170909566R'}, {u'bibcode': u'2016arXiv160107858A'}, {u'bibcode': u'2015scop.confE...3A'}, {u'alternate_bibcode': [u'2015arXiv150305881C', u'2015adass..24..401C'], u'bibcode': u'2015ASPC..495..401C'}, {u'bibcode': u'2015IAUGA..2257639R'}, {u'bibcode': u'2015IAUGA..2257982A'}, {u'bibcode': u'2015IAUGA..2257768A'}, {u'bibcode': u'2015ASPC..492..208G'}, {u'bibcode': u'2015ASPC..492...85E'}, {u'bibcode': u'2015ASPC..492..150T'}, {u'alternate_bibcode': [u'2015arXiv150304194A'], u'bibcode': u'2015ASPC..492..189A'}, {u'alternate_bibcode': [u'2014arXiv1406.4542H'], u'bibcode': u'2015ASPC..492...80H'}, {u'bibcode': u'2015AAS...22533655A'}, {u'bibcode': u'2014AAS...22325503A'}, {u'bibcode': u'2014AAS...22325525A'}]}}, u'updates': {u'update_list': [], u'num_updated': 0, u'duplicates_removed': 0}, u'metadata': {u'num_documents': 163, u'description': u'Papers about ADS', u'name': u'ADS', u'permission': u'owner', u'id': u'ZX9Mgv67QSyS6GfuYLjB7w', u'num_users': 1, u'owner': u'test.user-api', u'date_created': u'2018-06-28T15:30:24.764684', u'public': False, u'date_last_modified': u'2018-06-28T15:33:01.545962'}}\n"
     ]
    }
   ],
   "source": [
    "# get the data for a specific library\n",
    "r = requests.get(\"https://api.adsabs.harvard.edu/v1/biblib/libraries/ZX9Mgv67QSyS6GfuYLjB7w\", \\\n",
    "                 headers={\"Authorization\": \"Bearer \" + lib_token})\n",
    "print(r.json())"
   ]
  },
  {
   "cell_type": "code",
   "execution_count": null,
   "metadata": {
    "collapsed": true
   },
   "outputs": [],
   "source": []
  }
 ],
 "metadata": {
  "kernelspec": {
   "display_name": "Python 2",
   "language": "python",
   "name": "python2"
  },
  "language_info": {
   "codemirror_mode": {
    "name": "ipython",
    "version": 2
   },
   "file_extension": ".py",
   "mimetype": "text/x-python",
   "name": "python",
   "nbconvert_exporter": "python",
   "pygments_lexer": "ipython2",
   "version": "2.7.13"
  }
 },
 "nbformat": 4,
 "nbformat_minor": 2
}
