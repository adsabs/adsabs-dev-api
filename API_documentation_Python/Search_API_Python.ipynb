{
 "cells": [
  {
   "cell_type": "markdown",
   "metadata": {},
   "source": [
    "## Search API (Python version)\n",
    "This notebook explains how to use the API to search the database using either search terms or a set of bibcodes. Lists of query parameters and search fields are also given. Examples here will be shown using Python with the use of the [requests](http://docs.python-requests.org/en/master/) library, though the same work could be done using the [unofficial Python ADS library](https://ads.readthedocs.io/en/latest/) or curl commands on the command line (see the \"API documentation - UNIX shell\" folder in this same repository).\n",
    "\n",
    "The **base_url** for queries is `https://api.adsabs.harvard.edu/v1/search`. The given endpoint in each section should be appended to the end of the base URL to make the full URL to be used in the request. \n",
    "\n",
    "In all examples below, `token` should be replaced with [your own API token](https://ui.adsabs.harvard.edu/user/settings/token). If you haven't worked with our API before, it's recommended that you read the [README](https://github.com/adsabs/adsabs-dev-api/blob/master/README.md) before beginning."
   ]
  },
  {
   "cell_type": "code",
   "execution_count": 1,
   "metadata": {},
   "outputs": [],
   "source": [
    "# import the requests package and set your token in a variable for later use\n",
    "import requests\n",
    "\n",
    "token=\"your-token-here\""
   ]
  },
  {
   "cell_type": "markdown",
   "metadata": {},
   "source": [
    "### Contents\n",
    "- Search API\n",
    "- Query parameters\n",
    "- Fields\n",
    "- Examples\n",
    "- Advanced search syntax"
   ]
  },
  {
   "cell_type": "markdown",
   "metadata": {},
   "source": [
    "### Get search results\n",
    "URL: `{base_url}/query?` + query parameters\n",
    "\n",
    "Method: `GET`\n",
    "\n",
    "To search, construct a URL using the URL given above, along with your query parameters as detailed in the Query Parameters section below. Multiple search parameters may be added to the URL; separate parameters using an ampersand (`&`). All text must be UTF-8 and URL encoded. For example:"
   ]
  },
  {
   "cell_type": "code",
   "execution_count": 2,
   "metadata": {},
   "outputs": [
    {
     "name": "stdout",
     "output_type": "stream",
     "text": [
      "q=author%3Amart%C3%ADnez+neutron+star\n"
     ]
    }
   ],
   "source": [
    "from urllib.parse import urlencode, quote_plus\n",
    "\n",
    "# accented letters, special characters, and spaces need to be encoded\n",
    "query = {\"q\": \"author:martínez neutron star\"}\n",
    "\n",
    "encoded_query = urlencode(query)\n",
    "print(encoded_query)\n",
    "\n",
    "# note that the colon (:) may be encoded, depending on the algorithm you use. Your request \n",
    "# should accept either the unencoded colon (:) or the encoded version (%3A)"
   ]
  },
  {
   "cell_type": "markdown",
   "metadata": {},
   "source": [
    "The response from your request will be JSON encoded. \n",
    "\n",
    "Also, note that the search API uses the same syntax as [Apache Solr](http://lucene.apache.org/solr/). For a full reference of query possibilities, please refer to the Solr documentation and [ADS Search Help](https://ui.adsabs.harvard.edu/help/search/). Later sections in this notebook present useful parameters and patterns for the vast majority of use cases, but are not meant to be exhaustive."
   ]
  },
  {
   "cell_type": "code",
   "execution_count": 3,
   "metadata": {},
   "outputs": [
    {
     "data": {
      "text/plain": [
       "{'responseHeader': {'status': 0,\n",
       "  'QTime': 2140,\n",
       "  'params': {'q': 'author:martínez neutron star',\n",
       "   'fl': 'title,bibcode',\n",
       "   'start': '0',\n",
       "   'internal_logging_params': 'X-Amzn-Trace-Id=Root=1-63dbf303-455e6a527203ab7166b505b1',\n",
       "   'rows': '1',\n",
       "   'wt': 'json'}},\n",
       " 'response': {'numFound': 299,\n",
       "  'start': 0,\n",
       "  'docs': [{'bibcode': '2017ApJ...848L..12A',\n",
       "    'title': ['Multi-messenger Observations of a Binary Neutron Star Merger']}]}}"
      ]
     },
     "execution_count": 3,
     "metadata": {},
     "output_type": "execute_result"
    }
   ],
   "source": [
    "encoded_query = urlencode({\"q\": \"author:martínez neutron star\",\n",
    "                           \"fl\": \"title, bibcode\",\n",
    "                           \"rows\": 1\n",
    "                          })\n",
    "results = requests.get(\"https://api.adsabs.harvard.edu/v1/search/query?{}\".format(encoded_query), \\\n",
    "                       headers={'Authorization': 'Bearer ' + token})\n",
    "\n",
    "# format the response in a nicely readable format\n",
    "results.json()"
   ]
  },
  {
   "cell_type": "markdown",
   "metadata": {},
   "source": [
    "### Parse a query\n",
    "URL: `{base_url}/qtree?` + query parameters\n",
    "\n",
    "Method: `GET`\n",
    "\n",
    "Use the syntax above to return a query tree, also known as an Abstract Syntax Tree (AST), as understood by our query parser. This can be useful if you want to modify and/or enhance queries."
   ]
  },
  {
   "cell_type": "code",
   "execution_count": 4,
   "metadata": {},
   "outputs": [
    {
     "data": {
      "text/plain": [
       "{'responseHeader': {'status': 0, 'QTime': 1},\n",
       " 'qtree': '\\n{\"name\":\"OPERATOR\", \"label\":\"DEFOP\", \"children\": [\\n    {\"name\":\"MODIFIER\", \"label\":\"MODIFIER\", \"children\": [\\n        {\"name\":\"TMODIFIER\", \"label\":\"TMODIFIER\", \"children\": [\\n            {\"name\":\"FIELD\", \"label\":\"FIELD\", \"children\": [\\n                {\"name\":\"TERM_NORMAL\", \"input\":\"author\", \"start\":0, \"end\":5},\\n                {\"name\":\"QNORMAL\", \"label\":\"QNORMAL\", \"children\": [\\n                    {\"name\":\"TERM_NORMAL\", \"input\":\"martínez\", \"start\":7, \"end\":14}]\\n                }]\\n            }]\\n        }]\\n    },\\n    {\"name\":\"MODIFIER\", \"label\":\"MODIFIER\", \"children\": [\\n        {\"name\":\"TMODIFIER\", \"label\":\"TMODIFIER\", \"children\": [\\n            {\"name\":\"FIELD\", \"label\":\"FIELD\", \"children\": [\\n                {\"name\":\"QNORMAL\", \"label\":\"QNORMAL\", \"children\": [\\n                    {\"name\":\"TERM_NORMAL\", \"input\":\"neutron\", \"start\":16, \"end\":22}]\\n                }]\\n            }]\\n        }]\\n    },\\n    {\"name\":\"MODIFIER\", \"label\":\"MODIFIER\", \"children\": [\\n        {\"name\":\"TMODIFIER\", \"label\":\"TMODIFIER\", \"children\": [\\n            {\"name\":\"FIELD\", \"label\":\"FIELD\", \"children\": [\\n                {\"name\":\"QNORMAL\", \"label\":\"QNORMAL\", \"children\": [\\n                    {\"name\":\"TERM_NORMAL\", \"input\":\"star\", \"start\":24, \"end\":27}]\\n                }]\\n            }]\\n        }]\\n    }]\\n}'}"
      ]
     },
     "execution_count": 4,
     "metadata": {},
     "output_type": "execute_result"
    }
   ],
   "source": [
    "encoded_query = urlencode({\"q\": \"author:martínez neutron star\"})\n",
    "results = requests.get(\"https://api.adsabs.harvard.edu/v1/search/qtree?{}\".format(encoded_query), \\\n",
    "                       headers={'Authorization': 'Bearer ' + token})\n",
    "\n",
    "results.json()"
   ]
  },
  {
   "cell_type": "markdown",
   "metadata": {},
   "source": [
    "### Post a large identifier query\n",
    "URL: `{base_url}/bigquery?` + query parameters\n",
    "\n",
    "Method: `POST` (note that a `payload` is required for a POST request; see table below for more information)\n",
    "\n",
    "\n",
    "This type of query, typically called a \"big query\" for short, returns standard search results, but instead of the typical search terms, accepts as its input a list of bibcodes. There is a maximum of 2000 bibcodes allowed for each big query request. There are also limits on how often you can make a big query request; typically, only 100 requests per day per user are allowed.\n",
    "\n",
    "Name          | Type   | Description \n",
    ":-------------|:------:|:--------------\n",
    "query parameters   |`string`| **Required**. Query parameters must be encoded as in a standard query. The query parameter `q=` must be included even if no additional searching is desired; to prevent it from restricting the search results, enter `q=*:*`. It's also recommended to use the `fl=` parameter to specify which fields to return.\n",
    "`payload`     |`string`| **Required**. Newline (`\\n`) separated list of bibcodes to return. The first line specifies the field that will be used for searching, i.e. `bibcode` (for example, `bibcode\\n1907AN....174...59.\\n1908PA.....16..445.\\n1989LNP...334..242S`)\n",
    "\n",
    "Notes:\n",
    "- Currently, we only allow searching in the `bibcode` field. You can submit both canonical bibcodes (the ones that appear on a paper's abstract page, or in the URL pointing to the abstract page) as well as alternate bibcodes (e.g. bibcodes that pointed to a previous version of a paper, such as the arXiv version). The search automatically recognizes both types.\n",
    "- The list of bibcodes supplied in the `payload` is *only applied after the main search*, specified with the `q=` parameter. To return the entire list of supplied bibcodes, use `q=*:*`.\n",
    "- Currently, the default number of results returned by the big query is not controlled by the number of bibcodes requested, but rather is set to the default value of 10. To adjust this, set `&rows=` either to the number of bibcodes requested or to the maximum value of 2000.\n"
   ]
  },
  {
   "cell_type": "code",
   "execution_count": 5,
   "metadata": {},
   "outputs": [
    {
     "data": {
      "text/plain": [
       "{'responseHeader': {'status': 0,\n",
       "  'QTime': 44,\n",
       "  'params': {'q': '*:*',\n",
       "   'fl': 'bibcode,title',\n",
       "   'start': '0',\n",
       "   'internal_logging_params': 'X-Amzn-Trace-Id=Root=1-63dbf305-3a0bb5513f6d115d4e379a91',\n",
       "   'fq': '{!bitset}',\n",
       "   'rows': '2000',\n",
       "   'wt': 'json'}},\n",
       " 'response': {'numFound': 3,\n",
       "  'start': 0,\n",
       "  'docs': [{'bibcode': '1989LNP...334..242S',\n",
       "    'title': ['The Optical and Radio Properties of X-Ray Selected Bl-Lacertae Objects']},\n",
       "   {'bibcode': '1907AN....174...59.', 'title': ['Kleine Mitteilungen']},\n",
       "   {'bibcode': '1908PA.....16..445.', 'title': ['Variable Stars']}]}}"
      ]
     },
     "execution_count": 5,
     "metadata": {},
     "output_type": "execute_result"
    }
   ],
   "source": [
    "encoded_query = urlencode({\"q\": \"*:*\",\n",
    "                           \"fl\": \"bibcode,title\",\n",
    "                           \"rows\": 2000\n",
    "                          })\n",
    "payload = \"bibcode\\n1907AN....174...59.\\n1908PA.....16..445.\\n1989LNP...334..242S\"\n",
    "results = requests.post(\"https://api.adsabs.harvard.edu/v1/search/bigquery?{}\".format(encoded_query), \\\n",
    "                       headers={'Authorization': 'Bearer ' + token}, \\\n",
    "                       data=payload)\n",
    "\n",
    "results.json()"
   ]
  },
  {
   "cell_type": "markdown",
   "metadata": {},
   "source": [
    "## Query Parameters\n",
    "All query parameters passed in the search URL must be UTF-8, URL-encoded strings. Due to the requirements of the authentication library used for validating requests, most non-ASCII characters that appear in the URL need to be encoded; for example, the double quote character (\") should be encoded as %22. In most programming languages, such as Python, there are libraries to do this encoding for you, as shown in the examples in this notebook.\n",
    "\n",
    "Query parameters are composed of a key and a value, separated by an equals (`=`) sign. More than one query parameter may be included in the URL; multiple parameters are separated by an ampersand (`&`). The query parameters are included at the end of the URL, preceded by a question mark (`?`). For example:\n",
    "\n",
    "`https://api.adsabs.harvard.edu/v1/search/query?q=star&fl=title&rows=10`\n",
    "\n",
    "#### q\n",
    "**Required** The search query. This should be a UTF-8, URL-encoded string of <=1000 characters. `q` accepts both fields (`title:exoplanets`) and unfielded (`exoplanets`) searches.\n",
    "\n",
    "#### rows \n",
    "The number of results to return. The default is 10 and the maximum is 2000.\n",
    "\n",
    "#### start\n",
    "The starting point for returned results, used for pagination. The default is 0. To return the next page of results, set `start` equal to the value of `start` from the previous request, plus the number of results returned in the previous request. For the default values, set `start=10` to return the second page of results.\n",
    "\n",
    "#### fl\n",
    "The list of fields to return. The value should be a comma separated list of field names, e.g. `fl=bibcode,author,title`. The default is the internal document id (`fl=id`). A non-exhaustive list of available fields is shown below.\n",
    "\n",
    "#### fq\n",
    "Filters the list of search results. The syntax is the same as that for the `q` parameter. Adding search parameters via the `fq` parameter can speed up search results, as it searches only the results returned by the search entered via the `q` parameter, not the entire index. This parameter may be used more than once in a single search URL.\n",
    "\n",
    "#### sort\n",
    "The sorting field and direction to be used when returning results. The format requires both the field to sort on (see the list below and the direction, either `asc` or `desc` (ascending or descending). For example, an appropriately formatted sort parameter is `sort=citation_count+desc`. The default sort method is the relevancy score as calculated by the search engine. Other useful fields to sort on may be `date`, `read_count`, `first_author`, or `bibcode`."
   ]
  },
  {
   "cell_type": "markdown",
   "metadata": {},
   "source": [
    "## Fields\n",
    "This is a non-exhaustive list of fields available for searching via the API. A more comprehensive list is available in our [help pages](https://ui.adsabs.harvard.edu/help/search/comprehensive-solr-term-list). These fields can be used with the `fl` and `sort` parameters. \n",
    "\n",
    "Note: some fields, such as body, can be searched but not returned via `fl` or sorted on. Also, multivalued fields, such as author, cannot be used for sorting.\n",
    "\n",
    "* `abstract` - the abstract of the record\n",
    "* `ack` - the acknowledgements section of an article\n",
    "* `aff` - an array of the authors' affiliations\n",
    "* `alternate_bibcode` - list of alternate bibcodes for a single record; if a published record also has an arXiv version, the bibcode associated with the arXiv version is here\n",
    "* `alternate_title` - list of alternate titles for a single record (usually if they are in multiple languages)\n",
    "* `arxiv_class` - the arXiv class the pre-print was submitted to\n",
    "* `author` - an array of the author names associated with the record\n",
    "* `bibcode` - the canonical ADS bibcode identifier for this record\n",
    "* `bibgroup` - the bibliographic groups that the bibcode has been associated with\n",
    "* `bibstem` - the abbreviated name of the journal or publication, e.g., *ApJ*.\n",
    "* `body`\\* - the full text content of the article\n",
    "* `citation_count` - number of citations the item has received\n",
    "* `copyright` - the copyright applied to the article\n",
    "* `data` - the list of sources that have data related to this bibcode\n",
    "* `date` - the machine-readable version of `pubdate`, useful for sorting\n",
    "* `database` - database the record is associated with (astronomy, physics, or general). By default, all three databases are searched; to limit to astronomy articles, add `fq=database:astronomy` to the URL\n",
    "* `doi`-  the digital object identifier of the article\n",
    "* `doctype` - the type of document it is (see [here](https://ui.adsabs.harvard.edu/help/search/search-syntax) for a list of doctypes)\n",
    "* `first_author` - the first author of the article\n",
    "* `grant` - the list of grant IDs and agencies noted within an article\n",
    "* `id` - a **non-persistent** unique integer for this record, used for fast look-up of a document\n",
    "* `identifier` - an array of alternative identifiers for the record. May contain alternate bibcodes, DOIs and/or arxiv ids.\n",
    "* `indexstamp` - time at which the document was (last) indexed\n",
    "* `issue` - issue the record appeared in\n",
    "* `keyword` - an array of normalized and un-normalized keyword values associated with the record\n",
    "* `lang`\\* - the language of the article's title\n",
    "* `orcid_pub` - ORCiD iDs supplied by publishers\n",
    "* `orcid_user` - ORCiD iDs supplied by knonwn users in the ADS\n",
    "* `orcid_other` - ORCiD iDs supplied by anonymous users in the ADS\n",
    "* `page` - starting page\n",
    "* `property` - an array of miscellaneous flags associated with the record (see [here](https://ui.adsabs.harvard.edu/help/search/search-syntax) for a list of properties\n",
    "* `pub` - the canonical name of the publication the record appeared in\n",
    "* `pubdate` - publication date in the form YYYY-MM-DD (DD value will always be \"00\"). This field is stored as a human-readable string, so is useful for being returned via `fl`, but not for sorting (see `date`)\n",
    "* `read_count` - number of times the record has been viewed within in a 90-day windows (ads and arxiv)\n",
    "* `title` - the title of the record\n",
    "* `vizier` - the subject tags given to the article by VizieR\n",
    "* `volume` - volume the record appeared in\n",
    "* `year` - the year the article was published\n",
    "\n",
    "\\* *These fields are only indexed and so are only searchable - they are not stored or returned by the search end point, if requested*"
   ]
  },
  {
   "cell_type": "markdown",
   "metadata": {},
   "source": [
    "## Examples\n",
    "Some example requests are shown here. For more examples, see the `Examples` folder within this repository.."
   ]
  },
  {
   "cell_type": "code",
   "execution_count": 6,
   "metadata": {},
   "outputs": [
    {
     "data": {
      "text/plain": [
       "{'responseHeader': {'status': 0,\n",
       "  'QTime': 19,\n",
       "  'params': {'q': 'bibcode:2011ApJ...737..103S',\n",
       "   'fl': 'title',\n",
       "   'start': '0',\n",
       "   'internal_logging_params': 'X-Amzn-Trace-Id=Root=1-63dbf306-6f769deb4b0cdaca2d44b110',\n",
       "   'rows': '10',\n",
       "   'wt': 'json'}},\n",
       " 'response': {'numFound': 1,\n",
       "  'start': 0,\n",
       "  'docs': [{'title': ['Measuring Reddening with Sloan Digital Sky Survey Stellar Spectra and Recalibrating SFD']}]}}"
      ]
     },
     "execution_count": 6,
     "metadata": {},
     "output_type": "execute_result"
    }
   ],
   "source": [
    "# search by bibcode, return the title\n",
    "encoded_query = urlencode({\"q\": \"bibcode:2011ApJ...737..103S\",\n",
    "                           \"fl\": \"title\"})\n",
    "results = requests.get(\"https://api.adsabs.harvard.edu/v1/search/query?{}\".format(encoded_query), \\\n",
    "                       headers={'Authorization': 'Bearer ' + token})\n",
    "\n",
    "results.json()"
   ]
  },
  {
   "cell_type": "code",
   "execution_count": 7,
   "metadata": {},
   "outputs": [
    {
     "data": {
      "text/plain": [
       "{'responseHeader': {'status': 0,\n",
       "  'QTime': 1762,\n",
       "  'params': {'q': 'black holes',\n",
       "   'fl': 'bibcode',\n",
       "   'start': '0',\n",
       "   'internal_logging_params': 'X-Amzn-Trace-Id=Root=1-63dbf306-40906f1568cc13855bf47857',\n",
       "   'fq': 'database:astronomy',\n",
       "   'rows': '10',\n",
       "   'wt': 'json'}},\n",
       " 'response': {'numFound': 92420,\n",
       "  'start': 0,\n",
       "  'docs': [{'bibcode': '1973A&A....24..337S'},\n",
       "   {'bibcode': '1975CMaPh..43..199H'},\n",
       "   {'bibcode': '1974Natur.248...30H'},\n",
       "   {'bibcode': '1973PhRvD...7.2333B'},\n",
       "   {'bibcode': '2016PhRvL.116f1102A'},\n",
       "   {'bibcode': '2013ARA&A..51..511K'},\n",
       "   {'bibcode': '1977MNRAS.179..433B'},\n",
       "   {'bibcode': '1976PhRvD..14..870U'},\n",
       "   {'bibcode': '2023MNRAS.518.1057E'},\n",
       "   {'bibcode': '1973blho.conf..343N'}]}}"
      ]
     },
     "execution_count": 7,
     "metadata": {},
     "output_type": "execute_result"
    }
   ],
   "source": [
    "# search in all metadata fields for \"black holes\", restricted to the astronomy database; return a list of bibcodes\n",
    "encoded_query = urlencode({\"q\": \"black holes\",\n",
    "                           \"fq\": \"database:astronomy\",\n",
    "                           \"fl\": \"bibcode\"})\n",
    "results = requests.get(\"https://api.adsabs.harvard.edu/v1/search/query?{}\".format(encoded_query), \\\n",
    "                       headers={'Authorization': 'Bearer ' + token})\n",
    "\n",
    "results.json()"
   ]
  },
  {
   "cell_type": "code",
   "execution_count": 8,
   "metadata": {},
   "outputs": [
    {
     "data": {
      "text/plain": [
       "{'responseHeader': {'status': 0,\n",
       "  'QTime': 1611,\n",
       "  'params': {'q': \"'dark energy'\",\n",
       "   'fl': 'bibcode,citation_count',\n",
       "   'start': '0',\n",
       "   'internal_logging_params': 'X-Amzn-Trace-Id=Root=1-63dbf308-0f5094965ae0d9047e58abd1',\n",
       "   'fq': \"author:'Spergel, D.'\",\n",
       "   'sort': 'citation_count desc',\n",
       "   'rows': '10',\n",
       "   'wt': 'json'}},\n",
       " 'response': {'numFound': 109,\n",
       "  'start': 0,\n",
       "  'docs': [{'citation_count': 9711, 'bibcode': '2003ApJS..148..175S'},\n",
       "   {'citation_count': 7601, 'bibcode': '2011ApJS..192...18K'},\n",
       "   {'citation_count': 7053, 'bibcode': '2007ApJS..170..377S'},\n",
       "   {'citation_count': 5016, 'bibcode': '2009ApJS..180..330K'},\n",
       "   {'citation_count': 4498, 'bibcode': '2013ApJS..208...19H'},\n",
       "   {'citation_count': 4416, 'bibcode': '2003ApJS..148....1B'},\n",
       "   {'citation_count': 1740, 'bibcode': '2009ApJS..180..306D'},\n",
       "   {'citation_count': 1607, 'bibcode': '2000PhRvL..84.3760S'},\n",
       "   {'citation_count': 1583, 'bibcode': '2009ApJS..180..225H'},\n",
       "   {'citation_count': 1449, 'bibcode': '2010MNRAS.401.2148P'}]}}"
      ]
     },
     "execution_count": 8,
     "metadata": {},
     "output_type": "execute_result"
    }
   ],
   "source": [
    "# search in all metadata fields for \"dark energy\", filter by author, return a list of bibcodes and citation counts, \n",
    "# sorted by citation count\n",
    "encoded_query = urlencode({\"q\": \"'dark energy'\",\n",
    "                           \"fq\": \"author:'Spergel, D.'\",\n",
    "                           \"fl\": \"bibcode,citation_count\",\n",
    "                           \"sort\": \"citation_count desc\"\n",
    "                          })\n",
    "results = requests.get(\"https://api.adsabs.harvard.edu/v1/search/query?{}\".format(encoded_query), \\\n",
    "                       headers={'Authorization': 'Bearer ' + token})\n",
    "\n",
    "results.json()    "
   ]
  },
  {
   "cell_type": "code",
   "execution_count": 9,
   "metadata": {},
   "outputs": [
    {
     "data": {
      "text/plain": [
       "{'responseHeader': {'status': 0,\n",
       "  'QTime': 298,\n",
       "  'params': {'q': \"author:'Kurtz, M.'\",\n",
       "   'fl': 'title',\n",
       "   'start': '0',\n",
       "   'internal_logging_params': 'X-Amzn-Trace-Id=Root=1-63dbf309-293e9f8c18ab409b3ce7df4c',\n",
       "   'fq': 'property:refereed',\n",
       "   'rows': '10',\n",
       "   'wt': 'json'}},\n",
       " 'response': {'numFound': 273,\n",
       "  'start': 0,\n",
       "  'docs': [{'title': ['The Updated Zwicky Catalog (UZC)']},\n",
       "   {'title': ['RVSAO 2.0: Digital Redshifts and Radial Velocities']},\n",
       "   {'title': ['The Disk-Outflow System around the Rare Young O-type Protostar W42-MME']},\n",
       "   {'title': [\"Hectospec, the MMT's 300 Optical Fiber-Fed Spectrograph\"]},\n",
       "   {'title': ['Discovery of an Unbound Hypervelocity Star in the Milky Way Halo']},\n",
       "   {'title': ['A Galactic survey of radio jets from massive protostars']},\n",
       "   {'title': ['Asteroseismology of the DOV Star PG 1159-035 with the Whole Earth Telescope']},\n",
       "   {'title': ['Interstellar Complex Organic Molecules in SiO-traced Massive Outflows']},\n",
       "   {'title': ['KOI-54: The Kepler Discovery of Tidally Excited Pulsations and Brightenings in a Highly Eccentric Binary']},\n",
       "   {'title': ['CAIRNS: The Cluster and Infall Region Nearby Survey. I. Redshifts and Mass Profiles']}]}}"
      ]
     },
     "execution_count": 9,
     "metadata": {},
     "output_type": "execute_result"
    }
   ],
   "source": [
    "# limit a search to only refereed articles\n",
    "encoded_query = urlencode({\"q\": \"author:'Kurtz, M.'\",\n",
    "                           \"fq\": \"property:refereed\",\n",
    "                           \"fl\": \"title\"\n",
    "                          })\n",
    "results = requests.get(\"https://api.adsabs.harvard.edu/v1/search/query?{}\".format(encoded_query), \\\n",
    "                       headers={'Authorization': 'Bearer ' + token})\n",
    "\n",
    "results.json()    "
   ]
  },
  {
   "cell_type": "code",
   "execution_count": 10,
   "metadata": {},
   "outputs": [
    {
     "data": {
      "text/plain": [
       "{'responseHeader': {'status': 0,\n",
       "  'QTime': 1338,\n",
       "  'params': {'q': \"'transiting exoplanets'\",\n",
       "   'fl': 'bibcode',\n",
       "   'start': '0',\n",
       "   'internal_logging_params': 'X-Amzn-Trace-Id=Root=1-63dbf30a-3dcba7901371607423016e73',\n",
       "   'sort': 'bibcode desc',\n",
       "   'rows': '5',\n",
       "   'wt': 'json'}},\n",
       " 'response': {'numFound': 9473,\n",
       "  'start': 0,\n",
       "  'docs': [{'bibcode': '2023yCat..36690117L'},\n",
       "   {'bibcode': '2023nova.pres10368C'},\n",
       "   {'bibcode': '2023lbep.book.....W'},\n",
       "   {'bibcode': '2023asal.book..183Z'},\n",
       "   {'bibcode': '2023arXiv230113708M'}]}}"
      ]
     },
     "execution_count": 10,
     "metadata": {},
     "output_type": "execute_result"
    }
   ],
   "source": [
    "# search for the phrase \"transiting exoplanets\", fetch 5 rows\n",
    "encoded_query = urlencode({\"q\": \"'transiting exoplanets'\",\n",
    "                           \"fl\": \"bibcode\",\n",
    "                           \"rows\": 5,\n",
    "                           \"sort\": \"bibcode desc\"\n",
    "                          })\n",
    "results = requests.get(\"https://api.adsabs.harvard.edu/v1/search/query?{}\".format(encoded_query), \\\n",
    "                       headers={'Authorization': 'Bearer ' + token})\n",
    "\n",
    "results.json()"
   ]
  },
  {
   "cell_type": "code",
   "execution_count": 11,
   "metadata": {},
   "outputs": [
    {
     "data": {
      "text/plain": [
       "{'responseHeader': {'status': 0,\n",
       "  'QTime': 28,\n",
       "  'params': {'q': \"'transiting exoplanets'\",\n",
       "   'fl': 'bibcode',\n",
       "   'start': '5',\n",
       "   'internal_logging_params': 'X-Amzn-Trace-Id=Root=1-63dbf30b-1be8ee3d4e28eebe64893ab4',\n",
       "   'sort': 'bibcode desc',\n",
       "   'rows': '5',\n",
       "   'wt': 'json'}},\n",
       " 'response': {'numFound': 9473,\n",
       "  'start': 5,\n",
       "  'docs': [{'bibcode': '2023arXiv230113453I'},\n",
       "   {'bibcode': '2023arXiv230113025C'},\n",
       "   {'bibcode': '2023arXiv230112779P'},\n",
       "   {'bibcode': '2023arXiv230110837L'},\n",
       "   {'bibcode': '2023arXiv230110406L'}]}}"
      ]
     },
     "execution_count": 11,
     "metadata": {},
     "output_type": "execute_result"
    }
   ],
   "source": [
    "# same, but return the next 5 rows\n",
    "encoded_query = urlencode({\"q\": \"'transiting exoplanets'\",\n",
    "                           \"fl\": \"bibcode\",\n",
    "                           \"rows\": 5,\n",
    "                           \"start\": 5,\n",
    "                           \"sort\": \"bibcode desc\"\n",
    "                          })\n",
    "results = requests.get(\"https://api.adsabs.harvard.edu/v1/search/query?{}\".format(encoded_query), \\\n",
    "                       headers={'Authorization': 'Bearer ' + token})\n",
    "\n",
    "results.json()"
   ]
  },
  {
   "cell_type": "markdown",
   "metadata": {},
   "source": [
    "## Advanced Search Syntax\n",
    "The `q` parameter supports both fielded and unfielded searches:\n",
    "- `black holes`\n",
    "- `title:exoplanets`\n",
    "\n",
    "Use quotation marks to indicate phrase searching:\n",
    "- `\"black holes\"`\n",
    "- `title:\"dark energy\"`\n",
    "\n",
    "Prepend terms with `+` or `-` to indicate inclusion or exclusion (note that after encoding spaces in the search string, the URL may include `++` or `+-`), or use Boolean operators (`AND`, `OR`, `NOT`):\n",
    "- `\"transiting exoplanets\" -Kepler`\n",
    "- `\"transiting exoplanets\" +JWST`"
   ]
  },
  {
   "cell_type": "code",
   "execution_count": 12,
   "metadata": {},
   "outputs": [
    {
     "data": {
      "text/plain": [
       "{'responseHeader': {'status': 0,\n",
       "  'QTime': 490,\n",
       "  'params': {'q': \"'transiting exoplanets' +JWST\",\n",
       "   'fl': 'title',\n",
       "   'start': '0',\n",
       "   'internal_logging_params': 'X-Amzn-Trace-Id=Root=1-63dbf30b-753e4c5c7669d7d417ed7732',\n",
       "   'sort': 'bibcode desc',\n",
       "   'rows': '5',\n",
       "   'wt': 'json'}},\n",
       " 'response': {'numFound': 972,\n",
       "  'start': 0,\n",
       "  'docs': [{'title': ['The Corgi of Exoplanets: Methane Mystery on HAT-P-18b']},\n",
       "   {'title': ['The Little Book of Exoplanets']},\n",
       "   {'title': ['The unusual M-dwarf Warm Jupiter TOI-1899~b: Refinement of orbital and planetary parameters']},\n",
       "   {'title': ['A First Look at the JWST MIRI/LRS Phase Curve of WASP-43b']},\n",
       "   {'title': ['A JWST transmission spectrum of a nearby Earth-sized exoplanet']}]}}"
      ]
     },
     "execution_count": 12,
     "metadata": {},
     "output_type": "execute_result"
    }
   ],
   "source": [
    "encoded_query = urlencode({\"q\": \"'transiting exoplanets' +JWST\",\n",
    "                           \"fl\": \"title\",\n",
    "                           \"rows\": 5,\n",
    "                           \"sort\": \"bibcode desc\"\n",
    "                          })\n",
    "results = requests.get(\"https://api.adsabs.harvard.edu/v1/search/query?{}\".format(encoded_query), \\\n",
    "                       headers={'Authorization': 'Bearer ' + token})\n",
    "\n",
    "results.json()"
   ]
  },
  {
   "cell_type": "markdown",
   "metadata": {},
   "source": [
    "To filter by a publication date range, you can use either the `year` or the `pubdate` fields:\n",
    "- `pubdate:[2013-07-00 TO *]`\n",
    "- `pubdate:[2005-01 TO 2007-01]`\n",
    "- `pubdate:2013-02`\n",
    "- `year:2013`\n",
    "- `year:[2012 TO 2013]`\n",
    "\n",
    "The default search uses a boolean `AND` between terms, but you may use `OR` and `AND` in combination with `()` to create more complex queries.\n",
    "\n",
    "Prefix queries (wildcards, `*`) are supported for most fields."
   ]
  },
  {
   "cell_type": "markdown",
   "metadata": {},
   "source": [
    "## Highlighting search terms\n",
    "Snippets of text, with search terms highlighted, may be returned by a search query. Limits are in place to prevent scraping of our full-text holdings, as noted below, but more highlights can be returned via these API calls than are displayed in the search results on the website.\n",
    "\n",
    "The following parameters control the highlights feature:\n",
    "- `hl=true` - (required) turn on the highlighting feature\n",
    "- `hl.fl` - (required) a comma-separated list of fields to return highlights for (e.g. title, abstract, or body)\n",
    "- `hl.snippets` - number of highlighted snippets to return; the maximum is 4\n",
    "- `hl.fragsize` - length of snippet to return; the maximum length is 100 characters. The snippet positioning is optimized to break on word and sentence boundaries, so the highlighted term will not always be centered in the snippet\n",
    "- `hl.maxAnalyzedChars` - this parameter is only needed if the highlighted field is very long and the frequency of the search term is low. By default, the first 51,200 characters of a field are used for highlights. If the search is returning fewer snippets than expected, try increasing this value to capture more of the field. However, increasing this value unnecessarily will slow searching\n",
    "\n",
    "Note: the highlights are returned in a separate section of the reponse than the results are, and are identified by the `id` of the result. The `id` is an internal identifier that is non-persistent with time, though will be consistent across a single response. So while it's not useful to store long term, the `id` should be included in the `fl` parameter in the request to match a given result to its highlights."
   ]
  },
  {
   "cell_type": "code",
   "execution_count": 13,
   "metadata": {},
   "outputs": [
    {
     "data": {
      "text/plain": [
       "{'responseHeader': {'status': 0,\n",
       "  'QTime': 1031,\n",
       "  'params': {'hl.snippets': '2',\n",
       "   'q': \"body:('transiting exoplanets' +JWST)\",\n",
       "   'hl': 'true',\n",
       "   'fl': 'title,id',\n",
       "   'hl.fragsize': '100',\n",
       "   'start': '0',\n",
       "   'internal_logging_params': 'X-Amzn-Trace-Id=Root=1-63dbf30c-419b193d42bf96973cf4dbb6',\n",
       "   'sort': 'score desc',\n",
       "   'hl.fl': 'body',\n",
       "   'rows': '3',\n",
       "   'wt': 'json'}},\n",
       " 'response': {'numFound': 3371,\n",
       "  'start': 0,\n",
       "  'docs': [{'id': '21464311',\n",
       "    'title': ['Identification of carbon dioxide in an exoplanet atmosphere']},\n",
       "   {'id': '1093212',\n",
       "    'title': ['Transiting Exoplanet Survey Satellite (TESS)']},\n",
       "   {'id': '21894614',\n",
       "    'title': ['Early Release Science of the exoplanet WASP-39b with JWST NIRSpec PRISM']}]},\n",
       " 'highlighting': {'21464311': {'body': [' 41. Beichman, C., et al. Observations of <em>Transiting</em> <em>Exoplanets</em> with the <em>James Webb Space Telescope</em>',\n",
       "    'Identification of carbon dioxide in an <em>exoplanet</em> atmosphere <em>JWST</em> <em>Transiting</em> <em>Exoplanet</em> Community']},\n",
       "  '1093212': {'body': ['<em>Transiting Exoplanet</em> Survey Satellite George R. Ricker Joshua N. Winn Roland Vanderspek David W.',\n",
       "    ' 1(1), 014003 (Jan–Mar 2015) <em>Transiting Exoplanet</em> Survey Satellite George R. Ricker,a,* Joshua N. Winn,a']},\n",
       "  '21894614': {'body': [' Jupiter-radius <em>exoplanet,</em> measured with <em>JWST</em> NIRSpec’s PRISM mode9 as part of the <em>JWST</em> <em>Transiting</em> <em>Exoplanet</em>',\n",
       "    ' InfraRed Spectrograph (NIRSpec)9,13, using the PRISM mode, as part of the <em>JWST</em> <em>Transiting</em> <em>Exoplanet</em> Community Early']}}}"
      ]
     },
     "execution_count": 13,
     "metadata": {},
     "output_type": "execute_result"
    }
   ],
   "source": [
    "# similar to above, but with highlights returned\n",
    "encoded_query = urlencode({\"q\": \"body:('transiting exoplanets' +JWST)\",\n",
    "                           \"fl\": \"title,id\",\n",
    "                           \"rows\": 3,\n",
    "                           \"sort\": \"score desc\",\n",
    "                           \"hl\": \"true\",\n",
    "                           \"hl.fl\": \"body\",\n",
    "                           \"hl.snippets\": 2,\n",
    "                           \"hl.fragsize\": 100\n",
    "                          })\n",
    "results = requests.get(\"https://api.adsabs.harvard.edu/v1/search/query?{}\".format(encoded_query), \\\n",
    "                       headers={'Authorization': 'Bearer ' + token})\n",
    "\n",
    "results.json()"
   ]
  },
  {
   "cell_type": "markdown",
   "metadata": {},
   "source": [
    "## Downloading PDFs\n",
    "PDFs may be downloaded using a GET request to the `link_gateway` endpoint. The URL to query consists of the base URL `https://ui.adsabs.harvard.edu/link_gateway/`, the bibcode to retrieve the PDF for, and an endpoint to indicate whether to download the arXiv PDF (`/EPRINT_PDF`) or the publisher PDF (`PUB_PDF`). \n",
    "\n",
    "The request will automatically redirect to the appropriate URL (arXiv or publisher), and the contents of the PDF will be available in the `.content` method of the response. Use the usual Python file writing functionality to write the PDF to file."
   ]
  },
  {
   "cell_type": "code",
   "execution_count": 15,
   "metadata": {},
   "outputs": [
    {
     "data": {
      "text/plain": [
       "'https://arxiv.org/pdf/astro-ph/9812133.pdf'"
      ]
     },
     "execution_count": 15,
     "metadata": {},
     "output_type": "execute_result"
    }
   ],
   "source": [
    "# download the arXiv PDF\n",
    "results = requests.get(\"https://ui.adsabs.harvard.edu/link_gateway/1999ApJ...517..565P/EPRINT_PDF\") \n",
    "\n",
    "# write the output to file\n",
    "with open('/Users/klockhart/Downloads/output.pdf', 'wb') as f:\n",
    "    f.write(results.content)\n",
    "    \n",
    "# show where the ADS URL redirected to\n",
    "results.url"
   ]
  },
  {
   "cell_type": "code",
   "execution_count": null,
   "metadata": {},
   "outputs": [],
   "source": [
    "# download the publisher PDF\n",
    "results = requests.get(\"https://ui.adsabs.harvard.edu/link_gateway/1998AJ....116.1009R/PUB_PDF\")\n",
    "\n",
    "# write the output to file\n",
    "with open('/Users/klockhart/Downloads/output_pub.pdf', 'wb') as f:\n",
    "    f.write(results.content)\n",
    "    \n",
    "# show where the ADS URL redirected to\n",
    "results.url"
   ]
  },
  {
   "cell_type": "code",
   "execution_count": null,
   "metadata": {},
   "outputs": [],
   "source": []
  }
 ],
 "metadata": {
  "kernelspec": {
   "display_name": "Python 3",
   "language": "python",
   "name": "python3"
  },
  "language_info": {
   "codemirror_mode": {
    "name": "ipython",
    "version": 3
   },
   "file_extension": ".py",
   "mimetype": "text/x-python",
   "name": "python",
   "nbconvert_exporter": "python",
   "pygments_lexer": "ipython3",
   "version": "3.8.1"
  }
 },
 "nbformat": 4,
 "nbformat_minor": 2
}
