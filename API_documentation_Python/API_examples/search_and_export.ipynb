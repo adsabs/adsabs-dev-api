{
 "cells": [
  {
   "cell_type": "markdown",
   "metadata": {},
   "source": [
    "# Exporting search results\n",
    "This notebook demonstrates how to export the results of a search using the API. Examples here will be shown using Python with the use of the `requests` library, though the same work could be done using the unofficial Python [ADS library](https://ads.readthedocs.io/en/latest/) or `curl` commands on the command line.\n",
    "\n",
    "## Using the API\n",
    "In all examples below, `token` should be replaced with [your own API token](https://ui.adsabs.harvard.edu/user/settings/token). If you haven't worked with our API before, it's recommended that you read the [README](https://github.com/adsabs/adsabs-dev-api/blob/master/README.md) before beginning. We also assume some familiarity with our other API Jupyter notebooks, especially the ones on searching and exporting."
   ]
  },
  {
   "cell_type": "code",
   "execution_count": 1,
   "metadata": {},
   "outputs": [],
   "source": [
    "# import the requests package and set your token in a variable for later use\n",
    "import requests\n",
    "token=\"nlfpePC8LV4EQ5c9BXtk0VbnXKifgjVBnWOpa0az\"\n",
    "#token=\"your-token-here\""
   ]
  },
  {
   "cell_type": "markdown",
   "metadata": {},
   "source": [
    "## Introduction\n",
    "In this library, we demonstrate how to run a search, extract the bibcodes of the search results, and export those in the format of your choice.\n",
    "\n",
    "## Searching with the API\n",
    "Let's start with an example search:\n",
    "\n",
    "`references(bibcode:1998ApJ...509..678G)`\n",
    "\n",
    "This search finds the references from a well-cited paper by a recent Nobel Prize winner. To convert that to a search, we first take the base URL for searching in the API:\n",
    "\n",
    "`https://api.adsabs.harvard.edu/v1/search/query?`\n",
    "\n",
    "We'll also need to pick which fields we want to return; since we'll just be exporting all of the search results, let's only return the bibcode for each search result.\n",
    "\n",
    "We then need to URL-encode our search terms before we add them to the URL. Python offers an easy way to do this."
   ]
  },
  {
   "cell_type": "code",
   "execution_count": 2,
   "metadata": {},
   "outputs": [
    {
     "data": {
      "text/plain": [
       "'q=references%28bibcode%3A1998ApJ...509..678G%29&fl=bibcode'"
      ]
     },
     "execution_count": 2,
     "metadata": {},
     "output_type": "execute_result"
    }
   ],
   "source": [
    "from urllib.parse import urlencode\n",
    "query = 'references(bibcode:1998ApJ...509..678G)'\n",
    "# the \"q\" key below designates that this is the search query, while the \"fl\" refers to the fields to return\n",
    "encoded_query = urlencode({'q': query, 'fl': 'bibcode'})\n",
    "encoded_query"
   ]
  },
  {
   "cell_type": "markdown",
   "metadata": {},
   "source": [
    "We'll append the encoded query terms to the base URL to create the URL we'll send our API request to.\n",
    "\n",
    "Two other things you'll need to know:\n",
    "* this API endpoint uses the GET HTTP method, so you'll use the `get` method on the request. (Note that you can find all API endpoints and their HTTP methods in our [full API documentation](https://ui.adsabs.harvard.edu/help/api/api-docs.html).)\n",
    "* virtually all API requests require you to pass your API token in the header, as shown below\n",
    "\n",
    "Putting all this together, we can now run our search through the API:"
   ]
  },
  {
   "cell_type": "code",
   "execution_count": 3,
   "metadata": {},
   "outputs": [
    {
     "data": {
      "text/plain": [
       "{'responseHeader': {'status': 0,\n",
       "  'QTime': 39,\n",
       "  'params': {'q': 'references(bibcode:1998ApJ...509..678G)',\n",
       "   'fl': 'bibcode',\n",
       "   'start': '0',\n",
       "   'internal_logging_params': 'X-Amzn-Trace-Id=Root=1-63dc03f7-27cbe4091fea494b56ea9a99',\n",
       "   'rows': '10',\n",
       "   'wt': 'json'}},\n",
       " 'response': {'numFound': 27,\n",
       "  'start': 0,\n",
       "  'docs': [{'bibcode': '1987gady.book.....B'},\n",
       "   {'bibcode': '1995Natur.373..127M'},\n",
       "   {'bibcode': '1993ARA&A..31..345R'},\n",
       "   {'bibcode': '1996Natur.383..415E'},\n",
       "   {'bibcode': '1997MNRAS.284..576E'},\n",
       "   {'bibcode': '1994ApJ...435L..35H'},\n",
       "   {'bibcode': '1997MNRAS.291..219G'},\n",
       "   {'bibcode': '1971MNRAS.152..461L'},\n",
       "   {'bibcode': '1994ApJ...435L..27F'},\n",
       "   {'bibcode': '1996ApJ...472..153G'}]}}"
      ]
     },
     "execution_count": 3,
     "metadata": {},
     "output_type": "execute_result"
    }
   ],
   "source": [
    "results = requests.get(\"https://api.adsabs.harvard.edu/v1/search/query?{}\".format(encoded_query), \\\n",
    "                       headers={'Authorization': 'Bearer ' + token})\n",
    "# format the response in a nicely readable format\n",
    "results.json()"
   ]
  },
  {
   "cell_type": "markdown",
   "metadata": {},
   "source": [
    "Our query returned 10 results, which is the default number of results to return. However, there are a total of 27 results that match the search (see the `numFound` parameter in the response). We have a couple options to return all of the search results. We could increase the number of results returned to something equal to or larger than the total number of search results using the `rows` parameter (up to a maximum of 2000 rows; see the [full API documentation](https://ui.adsabs.harvard.edu/help/api/api-docs.html) or the search Jupyter notebook for more details). Alternatively, we can page through the list of results. \n",
    "\n",
    "Since the latter option is slightly more complex, we'll demonstrate that option here. While we're at it, we'll also extract the bibcodes from the dictionary structure they were returned in into a more manageable and useful list."
   ]
  },
  {
   "cell_type": "code",
   "execution_count": 4,
   "metadata": {},
   "outputs": [
    {
     "name": "stdout",
     "output_type": "stream",
     "text": [
      "27\n"
     ]
    }
   ],
   "source": [
    "rows = 10 # fetch 10 records at a time\n",
    "start = 0  # start with the first result\n",
    "bibcodes = [] # we'll store the bibcodes of all of our results here\n",
    "\n",
    "# this is the pagination - the while loop will automatically stop once we've fetched all docs\n",
    "docs = True\n",
    "while docs:\n",
    "    # note that this URL is the same as above, except we've added parameters for start and rows\n",
    "    results = requests.get(\"https://api.adsabs.harvard.edu/v1/search/query?{encoded_query}\" \\\n",
    "                           \"&rows={rows}\" \\\n",
    "                           \"&start={start}\".format(encoded_query=encoded_query,rows=rows,start=start), \\\n",
    "                           headers={'Authorization': 'Bearer ' + token})\n",
    "    try:\n",
    "        docs = results.json()['response']['docs']\n",
    "    except KeyError:\n",
    "        print('No docs found')\n",
    "        break\n",
    "    # pull the bibcodes out of the results into a list\n",
    "    tmp = [d['bibcode'] for d in docs]\n",
    "    bibcodes = bibcodes + tmp\n",
    "    start += rows # increment the start value to move to the next page of results\n",
    "\n",
    "print(len(bibcodes))"
   ]
  },
  {
   "cell_type": "markdown",
   "metadata": {},
   "source": [
    "Ok, we've now completed the search and extracted all of the search results into a list. Let's move on to exporting them.\n",
    "\n",
    "## Exporting the search results\n",
    "There are many options for export formats; see the [full API documentation](https://ui.adsabs.harvard.edu/help/api/api-docs.html) for a list of options. \n",
    "\n",
    "### Export to BibTeX\n",
    "\n",
    "One of the most commonly used export formats in ADS is BibTeX, so let's start with that one. The base URL for a BibTeX export is:\n",
    "\n",
    "`https://api.adsabs.harvard.edu/v1/export/bibtex`\n",
    "\n",
    "Other export formats follow the same pattern, with the name of the export format replacing `bibtex` in the above URL.\n",
    "\n",
    "This URL can be used with either the GET or the POST HTTP method, depending on your needs. \n",
    "\n",
    "#### Export a single bibcode\n",
    "\n",
    "If you want to export a single record, you'll use the GET method, putting the bibcode at the end of the URL:"
   ]
  },
  {
   "cell_type": "code",
   "execution_count": 5,
   "metadata": {},
   "outputs": [
    {
     "data": {
      "text/plain": [
       "'@BOOK{1987gady.book.....B,\\n       author = {{Binney}, James and {Tremaine}, Scott},\\n        title = \"{Galactic dynamics}\",\\n         year = 1987,\\n       adsurl = {https://ui.adsabs.harvard.edu/abs/1987gady.book.....B},\\n      adsnote = {Provided by the SAO/NASA Astrophysics Data System}\\n}\\n\\n'"
      ]
     },
     "execution_count": 5,
     "metadata": {},
     "output_type": "execute_result"
    }
   ],
   "source": [
    "# let's export the first record from our list of bibcodes\n",
    "bibcode = bibcodes[0]\n",
    "\n",
    "results = requests.get(\"https://api.adsabs.harvard.edu/v1/export/bibtex/{bibcode}\".format(bibcode=bibcode),\n",
    "                      headers={'Authorization': 'Bearer ' + token})\n",
    "\n",
    "\n",
    "results.text"
   ]
  },
  {
   "cell_type": "markdown",
   "metadata": {},
   "source": [
    "#### Export a list of bibcodes\n",
    "\n",
    "To export the entire list of bibcodes, you'll use the POST method, with the list of bibcodes passed in the payload:"
   ]
  },
  {
   "cell_type": "code",
   "execution_count": 6,
   "metadata": {},
   "outputs": [
    {
     "data": {
      "text/plain": [
       "{'msg': 'Retrieved 27 abstracts, starting with number 1.',\n",
       " 'export': '@ARTICLE{1998ApJ...494L.181M,\\n       author = {{Maoz}, Eyal},\\n        title = \"{Dynamical Constraints on Alternatives to Supermassive Black Holes in Galactic Nuclei}\",\\n      journal = {\\\\apjl},\\n     keywords = {BLACK HOLE PHYSICS, GALAXIES: KINEMATICS AND DYNAMICS, GALAXIES: NUCLEI, Black Hole Physics, Galaxies: Kinematics and Dynamics, Galaxies: Nuclei, Astrophysics},\\n         year = 1998,\\n        month = feb,\\n       volume = {494},\\n       number = {2},\\n        pages = {L181-L184},\\n          doi = {10.1086/311194},\\narchivePrefix = {arXiv},\\n       eprint = {astro-ph/9710309},\\n primaryClass = {astro-ph},\\n       adsurl = {https://ui.adsabs.harvard.edu/abs/1998ApJ...494L.181M},\\n      adsnote = {Provided by the SAO/NASA Astrophysics Data System}\\n}\\n\\n@ARTICLE{1997ApJ...490L..77S,\\n       author = {{Serabyn}, E. and {Carlstrom}, J. and {Lay}, O. and {Lis}, D.~C. and {Hunter}, T.~R. and {Lacy}, J.~H. and {Hills}, R.~E.},\\n        title = \"{High-Frequency Measurements of the Spectrum of Sagittarius A*}\",\\n      journal = {\\\\apjl},\\n     keywords = {GALAXIES: NUCLEI, GALAXY: CENTER, Galaxies: Nuclei, Galaxy: Center},\\n         year = 1997,\\n        month = nov,\\n       volume = {490},\\n       number = {1},\\n        pages = {L77-L81},\\n          doi = {10.1086/311010},\\n       adsurl = {https://ui.adsabs.harvard.edu/abs/1997ApJ...490L..77S},\\n      adsnote = {Provided by the SAO/NASA Astrophysics Data System}\\n}\\n\\n@ARTICLE{1997MNRAS.291..219G,\\n       author = {{Genzel}, R. and {Eckart}, A. and {Ott}, T. and {Eisenhauer}, F.},\\n        title = \"{On the nature of the dark mass in the centre of the Milky Way}\",\\n      journal = {\\\\mnras},\\n     keywords = {BLACK HOLE PHYSICS, ASTROMETRY, CELESTIAL MECHANICS, STELLAR DYNAMICS, GALAXY: CENTRE, INFRARED: GENERAL},\\n         year = 1997,\\n        month = oct,\\n       volume = {291},\\n       number = {1},\\n        pages = {219-234},\\n          doi = {10.1093/mnras/291.1.219},\\n       adsurl = {https://ui.adsabs.harvard.edu/abs/1997MNRAS.291..219G},\\n      adsnote = {Provided by the SAO/NASA Astrophysics Data System}\\n}\\n\\n@ARTICLE{1997ApJ...475L.111M,\\n       author = {{Menten}, Karl M. and {Reid}, Mark J. and {Eckart}, Andreas and {Genzel}, Reinhard},\\n        title = \"{The Position of Sagittarius A*: Accurate Alignment of the Radio and Infrared Reference Frames at the Galactic Center}\",\\n      journal = {\\\\apjl},\\n     keywords = {GALAXIES: NUCLEI, GALAXY: CENTER, STARS: AGB AND POST-AGB, STARS: CIRCUMSTELLAR MATTER, STARS: MASS LOSS, STARS: VARIABLES: OTHER, MASERS, Stars: Circumstellar Matter, Galaxies: Nuclei, galaxy: center, Masers, Stars: AGB and Post-AGB, stars: mass-loss, Stars: Variables: Other},\\n         year = 1997,\\n        month = feb,\\n       volume = {475},\\n       number = {2},\\n        pages = {L111-L114},\\n          doi = {10.1086/310472},\\n       adsurl = {https://ui.adsabs.harvard.edu/abs/1997ApJ...475L.111M},\\n      adsnote = {Provided by the SAO/NASA Astrophysics Data System}\\n}\\n\\n@ARTICLE{1997MNRAS.284..576E,\\n       author = {{Eckart}, A. and {Genzel}, R.},\\n        title = \"{Stellar proper motions in the central 0.1 PC of the Galaxy}\",\\n      journal = {\\\\mnras},\\n     keywords = {ASTROMETRY, STARS: FUNDAMENTAL PARAMETERS, STARS: IMAGING, GALAXY: CENTRE, INFRARED: GENERAL.},\\n         year = 1997,\\n        month = jan,\\n       volume = {284},\\n       number = {3},\\n        pages = {576-598},\\n          doi = {10.1093/mnras/284.3.576},\\n       adsurl = {https://ui.adsabs.harvard.edu/abs/1997MNRAS.284..576E},\\n      adsnote = {Provided by the SAO/NASA Astrophysics Data System}\\n}\\n\\n@ARTICLE{1996ApJ...472..153G,\\n       author = {{Genzel}, R. and {Thatte}, N. and {Krabbe}, A. and {Kroker}, H. and {Tacconi-Garman}, L.~E.},\\n        title = \"{The Dark Mass Concentration in the Central Parsec of the Milky Way}\",\\n      journal = {\\\\apj},\\n     keywords = {CELESTIAL MECHANICS, STELLAR DYNAMICS, GALAXY: CENTER, INFRARED: STARS, TECHNIQUES: RADIAL VELOCITIES},\\n         year = 1996,\\n        month = nov,\\n       volume = {472},\\n        pages = {153},\\n          doi = {10.1086/178051},\\n       adsurl = {https://ui.adsabs.harvard.edu/abs/1996ApJ...472..153G},\\n      adsnote = {Provided by the SAO/NASA Astrophysics Data System}\\n}\\n\\n@ARTICLE{1996Natur.383..415E,\\n       author = {{Eckart}, A. and {Genzel}, R.},\\n        title = \"{Observations of stellar proper motions near the Galactic Centre}\",\\n      journal = {\\\\nat},\\n         year = 1996,\\n        month = oct,\\n       volume = {383},\\n       number = {6599},\\n        pages = {415-417},\\n          doi = {10.1038/383415a0},\\n       adsurl = {https://ui.adsabs.harvard.edu/abs/1996Natur.383..415E},\\n      adsnote = {Provided by the SAO/NASA Astrophysics Data System}\\n}\\n\\n@ARTICLE{1996PASP..108..615M,\\n       author = {{Matthews}, K. and {Ghez}, A.~M. and {Weinberger}, A.~J. and {Neugebauer}, G.},\\n        title = \"{The First Diffraction-Limited Images from the W. M. Keck Telescope}\",\\n      journal = {\\\\pasp},\\n         year = 1996,\\n        month = jul,\\n       volume = {108},\\n        pages = {615},\\n          doi = {10.1086/133773},\\n       adsurl = {https://ui.adsabs.harvard.edu/abs/1996PASP..108..615M},\\n      adsnote = {Provided by the SAO/NASA Astrophysics Data System}\\n}\\n\\n@ARTICLE{1996ApJ...464..774H,\\n       author = {{Haller}, Joseph W. and {Melia}, Fulvio},\\n        title = \"{Inferring Spherical Mass Distributions Using the Projected Mass Estimator}\",\\n      journal = {\\\\apj},\\n     keywords = {CELESTIAL MECHANICS, STELLAR DYNAMICS, GALAXY: STRUCTURE, METHODS: ANALYTICAL},\\n         year = 1996,\\n        month = jun,\\n       volume = {464},\\n        pages = {774},\\n          doi = {10.1086/177363},\\n       adsurl = {https://ui.adsabs.harvard.edu/abs/1996ApJ...464..774H},\\n      adsnote = {Provided by the SAO/NASA Astrophysics Data System}\\n}\\n\\n@ARTICLE{1996A&A...307..450B,\\n       author = {{Beckert}, T. and {Duschl}, W.~J. and {Mezger}, P.~G. and {Zylka}, R.},\\n        title = \"{Anatomy of the Sagittarius A complex. V. Interpretation of the SGR A* spectrum.}\",\\n      journal = {\\\\aap},\\n     keywords = {GALAXY: CENTER, RADIO CONTINUUM: ISM, ISM: DUST, EXTINCTION, RADIATION MECHANISMS: NON-THERMAL, MAGNETIC FIELDS, X-RAYS: GENERAL},\\n         year = 1996,\\n        month = mar,\\n       volume = {307},\\n        pages = {450-458},\\n       adsurl = {https://ui.adsabs.harvard.edu/abs/1996A&A...307..450B},\\n      adsnote = {Provided by the SAO/NASA Astrophysics Data System}\\n}\\n\\n@INPROCEEDINGS{1996IAUS..169..193B,\\n       author = {{Backer}, D.~C.},\\n        title = \"{Diameter and Proper Motion of Sgr A*}\",\\n    booktitle = {Unsolved Problems of the Milky Way},\\n         year = 1996,\\n       editor = {{Blitz}, Leo. and {Teuben}, Peter Johannes},\\n       volume = {169},\\n        month = jan,\\n        pages = {193},\\n       adsurl = {https://ui.adsabs.harvard.edu/abs/1996IAUS..169..193B},\\n      adsnote = {Provided by the SAO/NASA Astrophysics Data System}\\n}\\n\\n@ARTICLE{1996ApJ...456..194H,\\n       author = {{Haller}, Joseph W. and {Rieke}, M.~J. and {Rieke}, G.~H. and {Tamblyn}, P. and {Close}, L. and {Melia}, F.},\\n        title = \"{Stellar Kinematics and the Black Hole in the Galactic Center}\",\\n      journal = {\\\\apj},\\n     keywords = {BLACK HOLE PHYSICS, GALAXY: CENTER, GALAXY: KINEMATICS AND DYNAMICS},\\n         year = 1996,\\n        month = jan,\\n       volume = {456},\\n        pages = {194},\\n          doi = {10.1086/176640},\\n       adsurl = {https://ui.adsabs.harvard.edu/abs/1996ApJ...456..194H},\\n      adsnote = {Provided by the SAO/NASA Astrophysics Data System}\\n}\\n\\n@ARTICLE{1995ApJ...447L..91M,\\n       author = {{Maoz}, Eyal},\\n        title = \"{A Stringent Constraint on Alternatives to a Massive Black Hole at the Center of NGC 4258}\",\\n      journal = {\\\\apjl},\\n     keywords = {MASERS, ACCRETION, ACCRETION DISKS, GALAXIES: INDIVIDUAL NGC NUMBER: NGC 4258, GALAXIES: NUCLEI, Astrophysics},\\n         year = 1995,\\n        month = jul,\\n       volume = {447},\\n        pages = {L91},\\n          doi = {10.1086/309574},\\narchivePrefix = {arXiv},\\n       eprint = {astro-ph/9503113},\\n primaryClass = {astro-ph},\\n       adsurl = {https://ui.adsabs.harvard.edu/abs/1995ApJ...447L..91M},\\n      adsnote = {Provided by the SAO/NASA Astrophysics Data System}\\n}\\n\\n@ARTICLE{1995ApJ...440..619G,\\n       author = {{Greenhill}, L.~J. and {Jiang}, D.~R. and {Moran}, J.~M. and {Reid}, M.~J. and {Lo}, K.~Y. and {Claussen}, M.~J.},\\n        title = \"{Detection of a Subparsec Diameter Disk in the Nucleus of NGC 4258}\",\\n      journal = {\\\\apj},\\n     keywords = {GALAXIES: INDIVIDUAL NGC NUMBER: NGC 4258, GALAXIES: KINEMATICS AND DYNAMICS, GALAXIES: NUCLEI, MASERS, TECHNIQUES: INTERFEROMETRIC},\\n         year = 1995,\\n        month = feb,\\n       volume = {440},\\n        pages = {619},\\n          doi = {10.1086/175301},\\n       adsurl = {https://ui.adsabs.harvard.edu/abs/1995ApJ...440..619G},\\n      adsnote = {Provided by the SAO/NASA Astrophysics Data System}\\n}\\n\\n@ARTICLE{1995Natur.373..127M,\\n       author = {{Miyoshi}, Makoto and {Moran}, James and {Herrnstein}, James and {Greenhill}, Lincoln and {Nakai}, Naomasa and {Diamond}, Philip and {Inoue}, Makoto},\\n        title = \"{Evidence for a black hole from high rotation velocities in a sub-parsec region of NGC4258}\",\\n      journal = {\\\\nat},\\n         year = 1995,\\n        month = jan,\\n       volume = {373},\\n       number = {6510},\\n        pages = {127-129},\\n          doi = {10.1038/373127a0},\\n       adsurl = {https://ui.adsabs.harvard.edu/abs/1995Natur.373..127M},\\n      adsnote = {Provided by the SAO/NASA Astrophysics Data System}\\n}\\n\\n@ARTICLE{1994ApJ...435L..35H,\\n       author = {{Harms}, Richard J. and {Ford}, Holland C. and {Tsvetanov}, Zlatan I. and {Hartig}, George F. and {Dressel}, Linda L. and {Kriss}, Gerard A. and {Bohlin}, Ralph and {Davidsen}, Arthur F. and {Margon}, Bruce and {Kochhar}, Ajay K.},\\n        title = \"{HST FOS Spectroscopy of M87: Evidence for a Disk of Ionized Gas around a Massive Black Hole}\",\\n      journal = {\\\\apjl},\\n     keywords = {Accretion Disks, Active Galactic Nuclei, Black Holes (Astronomy), Emission Spectra, Galactic Rotation, Ionized Gases, Plasma Jets, Faint Object Camera, Hubble Space Telescope, Kepler Laws, Radial Velocity, Spectrographs, Astronomy, BLACK HOLE PHYSICS, GALAXIES: INDIVIDUAL MESSIER NUMBER: M87, GALAXIES: KINEMATICS AND DYNAMICS, INSTRUMENTATION: SPECTROGRAPHS},\\n         year = 1994,\\n        month = nov,\\n       volume = {435},\\n        pages = {L35},\\n          doi = {10.1086/187588},\\n       adsurl = {https://ui.adsabs.harvard.edu/abs/1994ApJ...435L..35H},\\n      adsnote = {Provided by the SAO/NASA Astrophysics Data System}\\n}\\n\\n@ARTICLE{1994ApJ...435L..27F,\\n       author = {{Ford}, Holland C. and {Harms}, Richard J. and {Tsvetanov}, Zlatan I. and {Hartig}, George F. and {Dressel}, Linda L. and {Kriss}, Gerard A. and {Bohlin}, Ralph C. and {Davidsen}, Arthur F. and {Margon}, Bruce and {Kochhar}, Ajay K.},\\n        title = \"{Narrowband HST Images of M87: Evidence for a Disk of Ionized Gas around a Massive Black Hole}\",\\n      journal = {\\\\apjl},\\n     keywords = {Accretion Disks, Active Galactic Nuclei, Black Holes (Astronomy), Elliptical Galaxies, Interstellar Matter, Ionized Gases, Plasma Jets, Velocity Measurement, Astronomical Photography, H Alpha Line, Hubble Space Telescope, Kinematics, Mass To Light Ratios, Nitrogen, Radial Velocity, Red Shift, Astronomy, BLACK HOLE PHYSICS, GALAXIES: INDIVIDUAL MESSIER NUMBER: M87, GALAXIES: INDIVIDUAL NGC NUMBER: NGC 4486, GALAXIES: ISM, GALAXIES: KINEMATICS AND DYNAMICS, GALAXIES: NUCLEI},\\n         year = 1994,\\n        month = nov,\\n       volume = {435},\\n        pages = {L27},\\n          doi = {10.1086/187586},\\n       adsurl = {https://ui.adsabs.harvard.edu/abs/1994ApJ...435L..27F},\\n      adsnote = {Provided by the SAO/NASA Astrophysics Data System}\\n}\\n\\n@ARTICLE{1994ApJ...434L..59R,\\n       author = {{Rogers}, Alan E.~E. and {Doeleman}, Sheperd and {Wright}, Melvyn C.~H. and {Bower}, Geoffrey C. and {Backer}, Donald C. and {Padin}, Stephen and {Philips}, J.~A. and {Emerson}, Darrel T. and {Greenhill}, Lincoln and {Moran}, James M. and {Kellermann}, Kenneth I.},\\n        title = \"{Small-Scale Structure and Position of Sagittarius A * from VLBI at 3 Millimeter Wavelength}\",\\n      journal = {\\\\apjl},\\n     keywords = {Accretion Disks, Active Galactic Nuclei, Radio Astronomy, Radio Sources (Astronomy), Sagittarius Constellation, Brightness Temperature, Emission Spectra, Light Scattering, Millimeter Waves, Signal To Noise Ratios, Very Long Base Interferometry, Astrophysics, ACCRETION, ACCRETION DISKS, GALAXY: CENTER, SCATTERING, TECHNIQUES: INTERFEROMETRIC},\\n         year = 1994,\\n        month = oct,\\n       volume = {434},\\n        pages = {L59},\\n          doi = {10.1086/187574},\\n       adsurl = {https://ui.adsabs.harvard.edu/abs/1994ApJ...434L..59R},\\n      adsnote = {Provided by the SAO/NASA Astrophysics Data System}\\n}\\n\\n@INPROCEEDINGS{1994ASSL..190..239M,\\n       author = {{Matthews}, K. and {Soifer}, B.~T.},\\n        title = \"{The Near Infrared Camera on the W. M. Keck Telescope}\",\\n    booktitle = {Astronomy with Arrays, The Next Generation},\\n         year = 1994,\\n       editor = {{McLean}, Ian S.},\\n       series = {Astrophysics and Space Science Library},\\n       volume = {190},\\n        month = jan,\\n        pages = {239},\\n          doi = {10.1007/978-94-011-1070-9_76},\\n       adsurl = {https://ui.adsabs.harvard.edu/abs/1994ASSL..190..239M},\\n      adsnote = {Provided by the SAO/NASA Astrophysics Data System}\\n}\\n\\n@ARTICLE{1993ARA&A..31..345R,\\n       author = {{Reid}, Mark J.},\\n        title = \"{The distance to the center of the Galaxy.}\",\\n      journal = {\\\\araa},\\n     keywords = {Astrometry, Distance, Galactic Nuclei, Milky Way Galaxy, Astronomical Models, Globular Clusters, Water Masers, Astrophysics},\\n         year = 1993,\\n        month = jan,\\n       volume = {31},\\n        pages = {345-372},\\n          doi = {10.1146/annurev.aa.31.090193.002021},\\n       adsurl = {https://ui.adsabs.harvard.edu/abs/1993ARA&A..31..345R},\\n      adsnote = {Provided by the SAO/NASA Astrophysics Data System}\\n}\\n\\n@ARTICLE{1991PASP..103.1040C,\\n       author = {{Christou}, Julian C.},\\n        title = \"{Image Quality, Tip-Tilt Correction, and Shift-and-Add Infrared Imaging}\",\\n      journal = {\\\\pasp},\\n     keywords = {Image Reconstruction, Infrared Astronomy, Infrared Imagery, Seeing (Astronomy), Telescopes, Atmospheric Attenuation, Near Infrared Radiation, Signal To Noise Ratios, Transfer Functions, Astronomy, INSTRUMENTS},\\n         year = 1991,\\n        month = sep,\\n       volume = {103},\\n        pages = {1040},\\n          doi = {10.1086/132922},\\n       adsurl = {https://ui.adsabs.harvard.edu/abs/1991PASP..103.1040C},\\n      adsnote = {Provided by the SAO/NASA Astrophysics Data System}\\n}\\n\\n@ARTICLE{1989ApJ...338..824M,\\n       author = {{McGinn}, M.~T. and {Sellgren}, K. and {Becklin}, E.~E. and {Hall}, D.~N.~B.},\\n        title = \"{Stellar Kinematics in the Galactic Center}\",\\n      journal = {\\\\apj},\\n     keywords = {Galactic Nuclei, Milky Way Galaxy, Star Clusters, Stellar Motions, Brightness Distribution, Density Distribution, Error Analysis, Fabry-Perot Spectrometers, Faint Objects, Galactic Rotation, Mass Distribution, Astrophysics, GALAXIES: THE GALAXY, GALAXIES: INTERNAL MOTIONS, GALAXIES: NUCLEI},\\n         year = 1989,\\n        month = mar,\\n       volume = {338},\\n        pages = {824},\\n          doi = {10.1086/167239},\\n       adsurl = {https://ui.adsabs.harvard.edu/abs/1989ApJ...338..824M},\\n      adsnote = {Provided by the SAO/NASA Astrophysics Data System}\\n}\\n\\n@ARTICLE{1987ApJ...318..124G,\\n       author = {{Guesten}, R. and {Genzel}, R. and {Wright}, M.~C.~H. and {Jaffe}, D.~T. and {Stutzki}, J. and {Harris}, A.~I.},\\n        title = \"{Aperture Synthesis Observations of the Circumnuclear Ring in the Galactic Center}\",\\n      journal = {\\\\apj},\\n     keywords = {Astronomical Spectroscopy, Galactic Nuclei, Milky Way Galaxy, Molecular Gases, Neutral Gases, Synthetic Apertures, Absorption Spectra, Carbon Monoxide, Emission Spectra, Hydrocyanic Acid, Interstellar Gas, Radio Astronomy, Astrophysics, GALAXIES: NUCLEI, INTERSTELLAR: MOLECULES},\\n         year = 1987,\\n        month = jul,\\n       volume = {318},\\n        pages = {124},\\n          doi = {10.1086/165355},\\n       adsurl = {https://ui.adsabs.harvard.edu/abs/1987ApJ...318..124G},\\n      adsnote = {Provided by the SAO/NASA Astrophysics Data System}\\n}\\n\\n@BOOK{1987gady.book.....B,\\n       author = {{Binney}, James and {Tremaine}, Scott},\\n        title = \"{Galactic dynamics}\",\\n         year = 1987,\\n       adsurl = {https://ui.adsabs.harvard.edu/abs/1987gady.book.....B},\\n      adsnote = {Provided by the SAO/NASA Astrophysics Data System}\\n}\\n\\n@ARTICLE{1981ApJ...244..805B,\\n       author = {{Bahcall}, J.~N. and {Tremaine}, S.},\\n        title = \"{Methods for determining the masses of spherical systems. I. Test particles around a point mass.}\",\\n      journal = {\\\\apj},\\n     keywords = {Celestial Mechanics, Galactic Clusters, Mass Distribution, Stellar Motions, Andromeda Galaxy, Monte Carlo Method, Quasars, Radial Velocity, Spheres, Spiral Galaxies, Statistical Analysis, Virial Theorem, Astronomy},\\n         year = 1981,\\n        month = mar,\\n       volume = {244},\\n        pages = {805-819},\\n          doi = {10.1086/158756},\\n       adsurl = {https://ui.adsabs.harvard.edu/abs/1981ApJ...244..805B},\\n      adsnote = {Provided by the SAO/NASA Astrophysics Data System}\\n}\\n\\n@ARTICLE{1980ApJ...241..132L,\\n       author = {{Lacy}, J.~H. and {Townes}, C.~H. and {Geballe}, T.~R. and {Hollenbach}, D.~J.},\\n        title = \"{Observations of the motion and distribution of the ionized gas in the central parsec of the Galaxy. II.}\",\\n      journal = {\\\\apj},\\n     keywords = {Fine Structure, Galactic Nuclei, Infrared Spectra, Interstellar Gas, Ionized Gases, Mass Distribution, Milky Way Galaxy, Abundance, Cloud Physics, Gas Ionization, Line Spectra, Astrophysics, Galactic Center:Gas Clouds, Galactic Center:Infrared Sources},\\n         year = 1980,\\n        month = oct,\\n       volume = {241},\\n        pages = {132-146},\\n          doi = {10.1086/158324},\\n       adsurl = {https://ui.adsabs.harvard.edu/abs/1980ApJ...241..132L},\\n      adsnote = {Provided by the SAO/NASA Astrophysics Data System}\\n}\\n\\n@ARTICLE{1971MNRAS.152..461L,\\n       author = {{Lynden-Bell}, D. and {Rees}, M.~J.},\\n        title = \"{On quasars, dust and the galactic centre}\",\\n      journal = {\\\\mnras},\\n         year = 1971,\\n        month = jan,\\n       volume = {152},\\n        pages = {461},\\n          doi = {10.1093/mnras/152.4.461},\\n       adsurl = {https://ui.adsabs.harvard.edu/abs/1971MNRAS.152..461L},\\n      adsnote = {Provided by the SAO/NASA Astrophysics Data System}\\n}\\n\\n'}"
      ]
     },
     "execution_count": 6,
     "metadata": {},
     "output_type": "execute_result"
    }
   ],
   "source": [
    "# create a dictionary with the payload values\n",
    "payload = {'bibcode': bibcodes}\n",
    "\n",
    "# the json library offers an easy way to convert between JSON or dictionaries and their serialized strings\n",
    "import json\n",
    "serialized_payload = json.dumps(payload)\n",
    "\n",
    "results = requests.post(\"https://api.adsabs.harvard.edu/v1/export/bibtex\", \n",
    "                        headers={'Authorization': 'Bearer ' + token},\n",
    "                        data=serialized_payload)\n",
    "\n",
    "results.json()"
   ]
  },
  {
   "cell_type": "markdown",
   "metadata": {},
   "source": [
    "The results of the POST query come back as a dictionary; to get just the text, extract it from the dictionary:"
   ]
  },
  {
   "cell_type": "code",
   "execution_count": 7,
   "metadata": {},
   "outputs": [
    {
     "data": {
      "text/plain": [
       "'@ARTICLE{1998ApJ...494L.181M,\\n       author = {{Maoz}, Eyal},\\n        title = \"{Dynamical Constraints on Alternatives to Supermassive Black Holes in Galactic Nuclei}\",\\n      journal = {\\\\apjl},\\n     keywords = {BLACK HOLE PHYSICS, GALAXIES: KINEMATICS AND DYNAMICS, GALAXIES: NUCLEI, Black Hole Physics, Galaxies: Kinematics and Dynamics, Galaxies: Nuclei, Astrophysics},\\n         year = 1998,\\n        month = feb,\\n       volume = {494},\\n       number = {2},\\n        pages = {L181-L184},\\n          doi = {10.1086/311194},\\narchivePrefix = {arXiv},\\n       eprint = {astro-ph/9710309},\\n primaryClass = {astro-ph},\\n       adsurl = {https://ui.adsabs.harvard.edu/abs/1998ApJ...494L.181M},\\n      adsnote = {Provided by the SAO/NASA Astrophysics Data System}\\n}\\n\\n@ARTICLE{1997ApJ...490L..77S,\\n       author = {{Serabyn}, E. and {Carlstrom}, J. and {Lay}, O. and {Lis}, D.~C. and {Hunter}, T.~R. and {Lacy}, J.~H. and {Hills}, R.~E.},\\n        title = \"{High-Frequency Measurements of the Spectrum of Sagittarius A*}\",\\n      journal = {\\\\apjl},\\n     keywords = {GALAXIES: NUCLEI, GALAXY: CENTER, Galaxies: Nuclei, Galaxy: Center},\\n         year = 1997,\\n        month = nov,\\n       volume = {490},\\n       number = {1},\\n        pages = {L77-L81},\\n          doi = {10.1086/311010},\\n       adsurl = {https://ui.adsabs.harvard.edu/abs/1997ApJ...490L..77S},\\n      adsnote = {Provided by the SAO/NASA Astrophysics Data System}\\n}\\n\\n@ARTICLE{1997MNRAS.291..219G,\\n       author = {{Genzel}, R. and {Eckart}, A. and {Ott}, T. and {Eisenhauer}, F.},\\n        title = \"{On the nature of the dark mass in the centre of the Milky Way}\",\\n      journal = {\\\\mnras},\\n     keywords = {BLACK HOLE PHYSICS, ASTROMETRY, CELESTIAL MECHANICS, STELLAR DYNAMICS, GALAXY: CENTRE, INFRARED: GENERAL},\\n         year = 1997,\\n        month = oct,\\n       volume = {291},\\n       number = {1},\\n        pages = {219-234},\\n          doi = {10.1093/mnras/291.1.219},\\n       adsurl = {https://ui.adsabs.harvard.edu/abs/1997MNRAS.291..219G},\\n      adsnote = {Provided by the SAO/NASA Astrophysics Data System}\\n}\\n\\n@ARTICLE{1997ApJ...475L.111M,\\n       author = {{Menten}, Karl M. and {Reid}, Mark J. and {Eckart}, Andreas and {Genzel}, Reinhard},\\n        title = \"{The Position of Sagittarius A*: Accurate Alignment of the Radio and Infrared Reference Frames at the Galactic Center}\",\\n      journal = {\\\\apjl},\\n     keywords = {GALAXIES: NUCLEI, GALAXY: CENTER, STARS: AGB AND POST-AGB, STARS: CIRCUMSTELLAR MATTER, STARS: MASS LOSS, STARS: VARIABLES: OTHER, MASERS, Stars: Circumstellar Matter, Galaxies: Nuclei, galaxy: center, Masers, Stars: AGB and Post-AGB, stars: mass-loss, Stars: Variables: Other},\\n         year = 1997,\\n        month = feb,\\n       volume = {475},\\n       number = {2},\\n        pages = {L111-L114},\\n          doi = {10.1086/310472},\\n       adsurl = {https://ui.adsabs.harvard.edu/abs/1997ApJ...475L.111M},\\n      adsnote = {Provided by the SAO/NASA Astrophysics Data System}\\n}\\n\\n@ARTICLE{1997MNRAS.284..576E,\\n       author = {{Eckart}, A. and {Genzel}, R.},\\n        title = \"{Stellar proper motions in the central 0.1 PC of the Galaxy}\",\\n      journal = {\\\\mnras},\\n     keywords = {ASTROMETRY, STARS: FUNDAMENTAL PARAMETERS, STARS: IMAGING, GALAXY: CENTRE, INFRARED: GENERAL.},\\n         year = 1997,\\n        month = jan,\\n       volume = {284},\\n       number = {3},\\n        pages = {576-598},\\n          doi = {10.1093/mnras/284.3.576},\\n       adsurl = {https://ui.adsabs.harvard.edu/abs/1997MNRAS.284..576E},\\n      adsnote = {Provided by the SAO/NASA Astrophysics Data System}\\n}\\n\\n@ARTICLE{1996ApJ...472..153G,\\n       author = {{Genzel}, R. and {Thatte}, N. and {Krabbe}, A. and {Kroker}, H. and {Tacconi-Garman}, L.~E.},\\n        title = \"{The Dark Mass Concentration in the Central Parsec of the Milky Way}\",\\n      journal = {\\\\apj},\\n     keywords = {CELESTIAL MECHANICS, STELLAR DYNAMICS, GALAXY: CENTER, INFRARED: STARS, TECHNIQUES: RADIAL VELOCITIES},\\n         year = 1996,\\n        month = nov,\\n       volume = {472},\\n        pages = {153},\\n          doi = {10.1086/178051},\\n       adsurl = {https://ui.adsabs.harvard.edu/abs/1996ApJ...472..153G},\\n      adsnote = {Provided by the SAO/NASA Astrophysics Data System}\\n}\\n\\n@ARTICLE{1996Natur.383..415E,\\n       author = {{Eckart}, A. and {Genzel}, R.},\\n        title = \"{Observations of stellar proper motions near the Galactic Centre}\",\\n      journal = {\\\\nat},\\n         year = 1996,\\n        month = oct,\\n       volume = {383},\\n       number = {6599},\\n        pages = {415-417},\\n          doi = {10.1038/383415a0},\\n       adsurl = {https://ui.adsabs.harvard.edu/abs/1996Natur.383..415E},\\n      adsnote = {Provided by the SAO/NASA Astrophysics Data System}\\n}\\n\\n@ARTICLE{1996PASP..108..615M,\\n       author = {{Matthews}, K. and {Ghez}, A.~M. and {Weinberger}, A.~J. and {Neugebauer}, G.},\\n        title = \"{The First Diffraction-Limited Images from the W. M. Keck Telescope}\",\\n      journal = {\\\\pasp},\\n         year = 1996,\\n        month = jul,\\n       volume = {108},\\n        pages = {615},\\n          doi = {10.1086/133773},\\n       adsurl = {https://ui.adsabs.harvard.edu/abs/1996PASP..108..615M},\\n      adsnote = {Provided by the SAO/NASA Astrophysics Data System}\\n}\\n\\n@ARTICLE{1996ApJ...464..774H,\\n       author = {{Haller}, Joseph W. and {Melia}, Fulvio},\\n        title = \"{Inferring Spherical Mass Distributions Using the Projected Mass Estimator}\",\\n      journal = {\\\\apj},\\n     keywords = {CELESTIAL MECHANICS, STELLAR DYNAMICS, GALAXY: STRUCTURE, METHODS: ANALYTICAL},\\n         year = 1996,\\n        month = jun,\\n       volume = {464},\\n        pages = {774},\\n          doi = {10.1086/177363},\\n       adsurl = {https://ui.adsabs.harvard.edu/abs/1996ApJ...464..774H},\\n      adsnote = {Provided by the SAO/NASA Astrophysics Data System}\\n}\\n\\n@ARTICLE{1996A&A...307..450B,\\n       author = {{Beckert}, T. and {Duschl}, W.~J. and {Mezger}, P.~G. and {Zylka}, R.},\\n        title = \"{Anatomy of the Sagittarius A complex. V. Interpretation of the SGR A* spectrum.}\",\\n      journal = {\\\\aap},\\n     keywords = {GALAXY: CENTER, RADIO CONTINUUM: ISM, ISM: DUST, EXTINCTION, RADIATION MECHANISMS: NON-THERMAL, MAGNETIC FIELDS, X-RAYS: GENERAL},\\n         year = 1996,\\n        month = mar,\\n       volume = {307},\\n        pages = {450-458},\\n       adsurl = {https://ui.adsabs.harvard.edu/abs/1996A&A...307..450B},\\n      adsnote = {Provided by the SAO/NASA Astrophysics Data System}\\n}\\n\\n@INPROCEEDINGS{1996IAUS..169..193B,\\n       author = {{Backer}, D.~C.},\\n        title = \"{Diameter and Proper Motion of Sgr A*}\",\\n    booktitle = {Unsolved Problems of the Milky Way},\\n         year = 1996,\\n       editor = {{Blitz}, Leo. and {Teuben}, Peter Johannes},\\n       volume = {169},\\n        month = jan,\\n        pages = {193},\\n       adsurl = {https://ui.adsabs.harvard.edu/abs/1996IAUS..169..193B},\\n      adsnote = {Provided by the SAO/NASA Astrophysics Data System}\\n}\\n\\n@ARTICLE{1996ApJ...456..194H,\\n       author = {{Haller}, Joseph W. and {Rieke}, M.~J. and {Rieke}, G.~H. and {Tamblyn}, P. and {Close}, L. and {Melia}, F.},\\n        title = \"{Stellar Kinematics and the Black Hole in the Galactic Center}\",\\n      journal = {\\\\apj},\\n     keywords = {BLACK HOLE PHYSICS, GALAXY: CENTER, GALAXY: KINEMATICS AND DYNAMICS},\\n         year = 1996,\\n        month = jan,\\n       volume = {456},\\n        pages = {194},\\n          doi = {10.1086/176640},\\n       adsurl = {https://ui.adsabs.harvard.edu/abs/1996ApJ...456..194H},\\n      adsnote = {Provided by the SAO/NASA Astrophysics Data System}\\n}\\n\\n@ARTICLE{1995ApJ...447L..91M,\\n       author = {{Maoz}, Eyal},\\n        title = \"{A Stringent Constraint on Alternatives to a Massive Black Hole at the Center of NGC 4258}\",\\n      journal = {\\\\apjl},\\n     keywords = {MASERS, ACCRETION, ACCRETION DISKS, GALAXIES: INDIVIDUAL NGC NUMBER: NGC 4258, GALAXIES: NUCLEI, Astrophysics},\\n         year = 1995,\\n        month = jul,\\n       volume = {447},\\n        pages = {L91},\\n          doi = {10.1086/309574},\\narchivePrefix = {arXiv},\\n       eprint = {astro-ph/9503113},\\n primaryClass = {astro-ph},\\n       adsurl = {https://ui.adsabs.harvard.edu/abs/1995ApJ...447L..91M},\\n      adsnote = {Provided by the SAO/NASA Astrophysics Data System}\\n}\\n\\n@ARTICLE{1995ApJ...440..619G,\\n       author = {{Greenhill}, L.~J. and {Jiang}, D.~R. and {Moran}, J.~M. and {Reid}, M.~J. and {Lo}, K.~Y. and {Claussen}, M.~J.},\\n        title = \"{Detection of a Subparsec Diameter Disk in the Nucleus of NGC 4258}\",\\n      journal = {\\\\apj},\\n     keywords = {GALAXIES: INDIVIDUAL NGC NUMBER: NGC 4258, GALAXIES: KINEMATICS AND DYNAMICS, GALAXIES: NUCLEI, MASERS, TECHNIQUES: INTERFEROMETRIC},\\n         year = 1995,\\n        month = feb,\\n       volume = {440},\\n        pages = {619},\\n          doi = {10.1086/175301},\\n       adsurl = {https://ui.adsabs.harvard.edu/abs/1995ApJ...440..619G},\\n      adsnote = {Provided by the SAO/NASA Astrophysics Data System}\\n}\\n\\n@ARTICLE{1995Natur.373..127M,\\n       author = {{Miyoshi}, Makoto and {Moran}, James and {Herrnstein}, James and {Greenhill}, Lincoln and {Nakai}, Naomasa and {Diamond}, Philip and {Inoue}, Makoto},\\n        title = \"{Evidence for a black hole from high rotation velocities in a sub-parsec region of NGC4258}\",\\n      journal = {\\\\nat},\\n         year = 1995,\\n        month = jan,\\n       volume = {373},\\n       number = {6510},\\n        pages = {127-129},\\n          doi = {10.1038/373127a0},\\n       adsurl = {https://ui.adsabs.harvard.edu/abs/1995Natur.373..127M},\\n      adsnote = {Provided by the SAO/NASA Astrophysics Data System}\\n}\\n\\n@ARTICLE{1994ApJ...435L..35H,\\n       author = {{Harms}, Richard J. and {Ford}, Holland C. and {Tsvetanov}, Zlatan I. and {Hartig}, George F. and {Dressel}, Linda L. and {Kriss}, Gerard A. and {Bohlin}, Ralph and {Davidsen}, Arthur F. and {Margon}, Bruce and {Kochhar}, Ajay K.},\\n        title = \"{HST FOS Spectroscopy of M87: Evidence for a Disk of Ionized Gas around a Massive Black Hole}\",\\n      journal = {\\\\apjl},\\n     keywords = {Accretion Disks, Active Galactic Nuclei, Black Holes (Astronomy), Emission Spectra, Galactic Rotation, Ionized Gases, Plasma Jets, Faint Object Camera, Hubble Space Telescope, Kepler Laws, Radial Velocity, Spectrographs, Astronomy, BLACK HOLE PHYSICS, GALAXIES: INDIVIDUAL MESSIER NUMBER: M87, GALAXIES: KINEMATICS AND DYNAMICS, INSTRUMENTATION: SPECTROGRAPHS},\\n         year = 1994,\\n        month = nov,\\n       volume = {435},\\n        pages = {L35},\\n          doi = {10.1086/187588},\\n       adsurl = {https://ui.adsabs.harvard.edu/abs/1994ApJ...435L..35H},\\n      adsnote = {Provided by the SAO/NASA Astrophysics Data System}\\n}\\n\\n@ARTICLE{1994ApJ...435L..27F,\\n       author = {{Ford}, Holland C. and {Harms}, Richard J. and {Tsvetanov}, Zlatan I. and {Hartig}, George F. and {Dressel}, Linda L. and {Kriss}, Gerard A. and {Bohlin}, Ralph C. and {Davidsen}, Arthur F. and {Margon}, Bruce and {Kochhar}, Ajay K.},\\n        title = \"{Narrowband HST Images of M87: Evidence for a Disk of Ionized Gas around a Massive Black Hole}\",\\n      journal = {\\\\apjl},\\n     keywords = {Accretion Disks, Active Galactic Nuclei, Black Holes (Astronomy), Elliptical Galaxies, Interstellar Matter, Ionized Gases, Plasma Jets, Velocity Measurement, Astronomical Photography, H Alpha Line, Hubble Space Telescope, Kinematics, Mass To Light Ratios, Nitrogen, Radial Velocity, Red Shift, Astronomy, BLACK HOLE PHYSICS, GALAXIES: INDIVIDUAL MESSIER NUMBER: M87, GALAXIES: INDIVIDUAL NGC NUMBER: NGC 4486, GALAXIES: ISM, GALAXIES: KINEMATICS AND DYNAMICS, GALAXIES: NUCLEI},\\n         year = 1994,\\n        month = nov,\\n       volume = {435},\\n        pages = {L27},\\n          doi = {10.1086/187586},\\n       adsurl = {https://ui.adsabs.harvard.edu/abs/1994ApJ...435L..27F},\\n      adsnote = {Provided by the SAO/NASA Astrophysics Data System}\\n}\\n\\n@ARTICLE{1994ApJ...434L..59R,\\n       author = {{Rogers}, Alan E.~E. and {Doeleman}, Sheperd and {Wright}, Melvyn C.~H. and {Bower}, Geoffrey C. and {Backer}, Donald C. and {Padin}, Stephen and {Philips}, J.~A. and {Emerson}, Darrel T. and {Greenhill}, Lincoln and {Moran}, James M. and {Kellermann}, Kenneth I.},\\n        title = \"{Small-Scale Structure and Position of Sagittarius A * from VLBI at 3 Millimeter Wavelength}\",\\n      journal = {\\\\apjl},\\n     keywords = {Accretion Disks, Active Galactic Nuclei, Radio Astronomy, Radio Sources (Astronomy), Sagittarius Constellation, Brightness Temperature, Emission Spectra, Light Scattering, Millimeter Waves, Signal To Noise Ratios, Very Long Base Interferometry, Astrophysics, ACCRETION, ACCRETION DISKS, GALAXY: CENTER, SCATTERING, TECHNIQUES: INTERFEROMETRIC},\\n         year = 1994,\\n        month = oct,\\n       volume = {434},\\n        pages = {L59},\\n          doi = {10.1086/187574},\\n       adsurl = {https://ui.adsabs.harvard.edu/abs/1994ApJ...434L..59R},\\n      adsnote = {Provided by the SAO/NASA Astrophysics Data System}\\n}\\n\\n@INPROCEEDINGS{1994ASSL..190..239M,\\n       author = {{Matthews}, K. and {Soifer}, B.~T.},\\n        title = \"{The Near Infrared Camera on the W. M. Keck Telescope}\",\\n    booktitle = {Astronomy with Arrays, The Next Generation},\\n         year = 1994,\\n       editor = {{McLean}, Ian S.},\\n       series = {Astrophysics and Space Science Library},\\n       volume = {190},\\n        month = jan,\\n        pages = {239},\\n          doi = {10.1007/978-94-011-1070-9_76},\\n       adsurl = {https://ui.adsabs.harvard.edu/abs/1994ASSL..190..239M},\\n      adsnote = {Provided by the SAO/NASA Astrophysics Data System}\\n}\\n\\n@ARTICLE{1993ARA&A..31..345R,\\n       author = {{Reid}, Mark J.},\\n        title = \"{The distance to the center of the Galaxy.}\",\\n      journal = {\\\\araa},\\n     keywords = {Astrometry, Distance, Galactic Nuclei, Milky Way Galaxy, Astronomical Models, Globular Clusters, Water Masers, Astrophysics},\\n         year = 1993,\\n        month = jan,\\n       volume = {31},\\n        pages = {345-372},\\n          doi = {10.1146/annurev.aa.31.090193.002021},\\n       adsurl = {https://ui.adsabs.harvard.edu/abs/1993ARA&A..31..345R},\\n      adsnote = {Provided by the SAO/NASA Astrophysics Data System}\\n}\\n\\n@ARTICLE{1991PASP..103.1040C,\\n       author = {{Christou}, Julian C.},\\n        title = \"{Image Quality, Tip-Tilt Correction, and Shift-and-Add Infrared Imaging}\",\\n      journal = {\\\\pasp},\\n     keywords = {Image Reconstruction, Infrared Astronomy, Infrared Imagery, Seeing (Astronomy), Telescopes, Atmospheric Attenuation, Near Infrared Radiation, Signal To Noise Ratios, Transfer Functions, Astronomy, INSTRUMENTS},\\n         year = 1991,\\n        month = sep,\\n       volume = {103},\\n        pages = {1040},\\n          doi = {10.1086/132922},\\n       adsurl = {https://ui.adsabs.harvard.edu/abs/1991PASP..103.1040C},\\n      adsnote = {Provided by the SAO/NASA Astrophysics Data System}\\n}\\n\\n@ARTICLE{1989ApJ...338..824M,\\n       author = {{McGinn}, M.~T. and {Sellgren}, K. and {Becklin}, E.~E. and {Hall}, D.~N.~B.},\\n        title = \"{Stellar Kinematics in the Galactic Center}\",\\n      journal = {\\\\apj},\\n     keywords = {Galactic Nuclei, Milky Way Galaxy, Star Clusters, Stellar Motions, Brightness Distribution, Density Distribution, Error Analysis, Fabry-Perot Spectrometers, Faint Objects, Galactic Rotation, Mass Distribution, Astrophysics, GALAXIES: THE GALAXY, GALAXIES: INTERNAL MOTIONS, GALAXIES: NUCLEI},\\n         year = 1989,\\n        month = mar,\\n       volume = {338},\\n        pages = {824},\\n          doi = {10.1086/167239},\\n       adsurl = {https://ui.adsabs.harvard.edu/abs/1989ApJ...338..824M},\\n      adsnote = {Provided by the SAO/NASA Astrophysics Data System}\\n}\\n\\n@ARTICLE{1987ApJ...318..124G,\\n       author = {{Guesten}, R. and {Genzel}, R. and {Wright}, M.~C.~H. and {Jaffe}, D.~T. and {Stutzki}, J. and {Harris}, A.~I.},\\n        title = \"{Aperture Synthesis Observations of the Circumnuclear Ring in the Galactic Center}\",\\n      journal = {\\\\apj},\\n     keywords = {Astronomical Spectroscopy, Galactic Nuclei, Milky Way Galaxy, Molecular Gases, Neutral Gases, Synthetic Apertures, Absorption Spectra, Carbon Monoxide, Emission Spectra, Hydrocyanic Acid, Interstellar Gas, Radio Astronomy, Astrophysics, GALAXIES: NUCLEI, INTERSTELLAR: MOLECULES},\\n         year = 1987,\\n        month = jul,\\n       volume = {318},\\n        pages = {124},\\n          doi = {10.1086/165355},\\n       adsurl = {https://ui.adsabs.harvard.edu/abs/1987ApJ...318..124G},\\n      adsnote = {Provided by the SAO/NASA Astrophysics Data System}\\n}\\n\\n@BOOK{1987gady.book.....B,\\n       author = {{Binney}, James and {Tremaine}, Scott},\\n        title = \"{Galactic dynamics}\",\\n         year = 1987,\\n       adsurl = {https://ui.adsabs.harvard.edu/abs/1987gady.book.....B},\\n      adsnote = {Provided by the SAO/NASA Astrophysics Data System}\\n}\\n\\n@ARTICLE{1981ApJ...244..805B,\\n       author = {{Bahcall}, J.~N. and {Tremaine}, S.},\\n        title = \"{Methods for determining the masses of spherical systems. I. Test particles around a point mass.}\",\\n      journal = {\\\\apj},\\n     keywords = {Celestial Mechanics, Galactic Clusters, Mass Distribution, Stellar Motions, Andromeda Galaxy, Monte Carlo Method, Quasars, Radial Velocity, Spheres, Spiral Galaxies, Statistical Analysis, Virial Theorem, Astronomy},\\n         year = 1981,\\n        month = mar,\\n       volume = {244},\\n        pages = {805-819},\\n          doi = {10.1086/158756},\\n       adsurl = {https://ui.adsabs.harvard.edu/abs/1981ApJ...244..805B},\\n      adsnote = {Provided by the SAO/NASA Astrophysics Data System}\\n}\\n\\n@ARTICLE{1980ApJ...241..132L,\\n       author = {{Lacy}, J.~H. and {Townes}, C.~H. and {Geballe}, T.~R. and {Hollenbach}, D.~J.},\\n        title = \"{Observations of the motion and distribution of the ionized gas in the central parsec of the Galaxy. II.}\",\\n      journal = {\\\\apj},\\n     keywords = {Fine Structure, Galactic Nuclei, Infrared Spectra, Interstellar Gas, Ionized Gases, Mass Distribution, Milky Way Galaxy, Abundance, Cloud Physics, Gas Ionization, Line Spectra, Astrophysics, Galactic Center:Gas Clouds, Galactic Center:Infrared Sources},\\n         year = 1980,\\n        month = oct,\\n       volume = {241},\\n        pages = {132-146},\\n          doi = {10.1086/158324},\\n       adsurl = {https://ui.adsabs.harvard.edu/abs/1980ApJ...241..132L},\\n      adsnote = {Provided by the SAO/NASA Astrophysics Data System}\\n}\\n\\n@ARTICLE{1971MNRAS.152..461L,\\n       author = {{Lynden-Bell}, D. and {Rees}, M.~J.},\\n        title = \"{On quasars, dust and the galactic centre}\",\\n      journal = {\\\\mnras},\\n         year = 1971,\\n        month = jan,\\n       volume = {152},\\n        pages = {461},\\n          doi = {10.1093/mnras/152.4.461},\\n       adsurl = {https://ui.adsabs.harvard.edu/abs/1971MNRAS.152..461L},\\n      adsnote = {Provided by the SAO/NASA Astrophysics Data System}\\n}\\n\\n'"
      ]
     },
     "execution_count": 7,
     "metadata": {},
     "output_type": "execute_result"
    }
   ],
   "source": [
    "results.json()['export']"
   ]
  },
  {
   "cell_type": "markdown",
   "metadata": {},
   "source": [
    "### Export using a custom format\n",
    "You can also export your results using a custom format. We offer many options for custom export formatting; see all of them [here](https://ui.adsabs.harvard.edu/help/actions/export#the-ads-custom-format).\n",
    "\n",
    "We'll use one of the custom formats from the help pages, which formats a record into a readable bibliography-type format:\n",
    "\n",
    "`%l (%Y), %j, %V, %p.\\n`\n",
    "\n",
    "The custom format base URL is:\n",
    "\n",
    "`https://api.adsabs.harvard.edu/v1/export/custom`\n",
    "\n",
    "and it always uses the POST HTTP method. The payload requires both the list of bibcodes to export as well as the custom format string. You can choose to include a sort order as well:"
   ]
  },
  {
   "cell_type": "code",
   "execution_count": 8,
   "metadata": {},
   "outputs": [
    {
     "data": {
      "text/plain": [
       "{'msg': 'Retrieved 27 abstracts, starting with number 1.',\n",
       " 'export': 'Backer, D. C. (1996), Unsolved Problems of the Milky Way, 169, 193.\\n\\nBahcall, J. N., & Tremaine, S. (1981), \\\\apj, 244, 805.\\n\\nBeckert, T., Duschl, W. J., Mezger, P. G., & Zylka, R. (1996), \\\\aap, 307, 450.\\n\\nBinney, J., & Tremaine, S. (1987), Princeton,.\\n\\nChristou, J. C. (1991), \\\\pasp, 103, 1040.\\n\\nEckart, A., & Genzel, R. (1996), \\\\nat, 383, 415.\\n\\nEckart, A., & Genzel, R. (1997), \\\\mnras, 284, 576.\\n\\nFord, H. C., Harms, R. J., Tsvetanov, Z. I., Hartig, G. F., Dressel, L. L., Kriss, G. A., Bohlin, R. C., Davidsen, A. F., Margon, B., & Kochhar, A. K. (1994), \\\\apjl, 435, L27.\\n\\nGenzel, R., Eckart, A., Ott, T., & Eisenhauer, F. (1997), \\\\mnras, 291, 219.\\n\\nGenzel, R., Thatte, N., Krabbe, A., Kroker, H., & Tacconi-Garman, L. E. (1996), \\\\apj, 472, 153.\\n\\nGreenhill, L. J., Jiang, D. R., Moran, J. M., Reid, M. J., Lo, K. Y., & Claussen, M. J. (1995), \\\\apj, 440, 619.\\n\\nGuesten, R., Genzel, R., Wright, M. C. H., Jaffe, D. T., Stutzki, J., & Harris, A. I. (1987), \\\\apj, 318, 124.\\n\\nHaller, J. W., Rieke, M. J., Rieke, G. H., Tamblyn, P., Close, L., & Melia, F. (1996), \\\\apj, 456, 194.\\n\\nHaller, J. W., & Melia, F. (1996), \\\\apj, 464, 774.\\n\\nHarms, R. J., Ford, H. C., Tsvetanov, Z. I., Hartig, G. F., Dressel, L. L., Kriss, G. A., Bohlin, R., Davidsen, A. F., Margon, B., & Kochhar, A. K. (1994), \\\\apjl, 435, L35.\\n\\nLacy, J. H., Townes, C. H., Geballe, T. R., & Hollenbach, D. J. (1980), \\\\apj, 241, 132.\\n\\nLynden-Bell, D., & Rees, M. J. (1971), \\\\mnras, 152, 461.\\n\\nMaoz, E. (1995), \\\\apjl, 447, L91.\\n\\nMaoz, E. (1998), \\\\apjl, 494, L181.\\n\\nMatthews, K., Ghez, A. M., Weinberger, A. J., & Neugebauer, G. (1996), \\\\pasp, 108, 615.\\n\\nMatthews, K., & Soifer, B. T. (1994), Astronomy with Arrays, The Next Generation, 190, 239.\\n\\nMcGinn, M. T., Sellgren, K., Becklin, E. E., & Hall, D. N. B. (1989), \\\\apj, 338, 824.\\n\\nMenten, K. M., Reid, M. J., Eckart, A., & Genzel, R. (1997), \\\\apjl, 475, L111.\\n\\nMiyoshi, M., Moran, J., Herrnstein, J., Greenhill, L., Nakai, N., Diamond, P., & Inoue, M. (1995), \\\\nat, 373, 127.\\n\\nReid, M. J. (1993), \\\\araa, 31, 345.\\n\\nRogers, A. E. E., Doeleman, S., Wright, M. C. H., Bower, G. C., Backer, D. C., Padin, S., Philips, J. A., Emerson, D. T., Greenhill, L., Moran, J. M., & Kellermann, K. I. (1994), \\\\apjl, 434, L59.\\n\\nSerabyn, E., Carlstrom, J., Lay, O., Lis, D. C., Hunter, T. R., Lacy, J. H., & Hills, R. E. (1997), \\\\apjl, 490, L77.\\n\\n'}"
      ]
     },
     "execution_count": 8,
     "metadata": {},
     "output_type": "execute_result"
    }
   ],
   "source": [
    "custom_format=\"%l (%Y), %j, %V, %p.\\n\"\n",
    "\n",
    "payload = {'bibcode': bibcodes,\n",
    "           'format': custom_format,\n",
    "           'sort': 'first_author asc'}\n",
    "\n",
    "serialized_payload = json.dumps(payload)\n",
    "\n",
    "results = requests.post(\"https://api.adsabs.harvard.edu/v1/export/custom\", \n",
    "                        headers={'Authorization': 'Bearer ' + token},\n",
    "                        data=serialized_payload)\n",
    "\n",
    "results.json()"
   ]
  },
  {
   "cell_type": "code",
   "execution_count": 9,
   "metadata": {},
   "outputs": [
    {
     "name": "stdout",
     "output_type": "stream",
     "text": [
      "Backer, D. C. (1996), Unsolved Problems of the Milky Way, 169, 193.\n",
      "\n",
      "Bahcall, J. N., & Tremaine, S. (1981), \\apj, 244, 805.\n",
      "\n",
      "Beckert, T., Duschl, W. J., Mezger, P. G., & Zylka, R. (1996), \\aap, 307, 450.\n",
      "\n",
      "Binney, J., & Tremaine, S. (1987), Princeton,.\n",
      "\n",
      "Christou, J. C. (1991), \\pasp, 103, 1040.\n",
      "\n",
      "Eckart, A., & Genzel, R. (1996), \\nat, 383, 415.\n",
      "\n",
      "Eckart, A., & Genzel, R. (1997), \\mnras, 284, 576.\n",
      "\n",
      "Ford, H. C., Harms, R. J., Tsvetanov, Z. I., Hartig, G. F., Dressel, L. L., Kriss, G. A., Bohlin, R. C., Davidsen, A. F., Margon, B., & Kochhar, A. K. (1994), \\apjl, 435, L27.\n",
      "\n",
      "Genzel, R., Eckart, A., Ott, T., & Eisenhauer, F. (1997), \\mnras, 291, 219.\n",
      "\n",
      "Genzel, R., Thatte, N., Krabbe, A., Kroker, H., & Tacconi-Garman, L. E. (1996), \\apj, 472, 153.\n",
      "\n",
      "Greenhill, L. J., Jiang, D. R., Moran, J. M., Reid, M. J., Lo, K. Y., & Claussen, M. J. (1995), \\apj, 440, 619.\n",
      "\n",
      "Guesten, R., Genzel, R., Wright, M. C. H., Jaffe, D. T., Stutzki, J., & Harris, A. I. (1987), \\apj, 318, 124.\n",
      "\n",
      "Haller, J. W., Rieke, M. J., Rieke, G. H., Tamblyn, P., Close, L., & Melia, F. (1996), \\apj, 456, 194.\n",
      "\n",
      "Haller, J. W., & Melia, F. (1996), \\apj, 464, 774.\n",
      "\n",
      "Harms, R. J., Ford, H. C., Tsvetanov, Z. I., Hartig, G. F., Dressel, L. L., Kriss, G. A., Bohlin, R., Davidsen, A. F., Margon, B., & Kochhar, A. K. (1994), \\apjl, 435, L35.\n",
      "\n",
      "Lacy, J. H., Townes, C. H., Geballe, T. R., & Hollenbach, D. J. (1980), \\apj, 241, 132.\n",
      "\n",
      "Lynden-Bell, D., & Rees, M. J. (1971), \\mnras, 152, 461.\n",
      "\n",
      "Maoz, E. (1995), \\apjl, 447, L91.\n",
      "\n",
      "Maoz, E. (1998), \\apjl, 494, L181.\n",
      "\n",
      "Matthews, K., Ghez, A. M., Weinberger, A. J., & Neugebauer, G. (1996), \\pasp, 108, 615.\n",
      "\n",
      "Matthews, K., & Soifer, B. T. (1994), Astronomy with Arrays, The Next Generation, 190, 239.\n",
      "\n",
      "McGinn, M. T., Sellgren, K., Becklin, E. E., & Hall, D. N. B. (1989), \\apj, 338, 824.\n",
      "\n",
      "Menten, K. M., Reid, M. J., Eckart, A., & Genzel, R. (1997), \\apjl, 475, L111.\n",
      "\n",
      "Miyoshi, M., Moran, J., Herrnstein, J., Greenhill, L., Nakai, N., Diamond, P., & Inoue, M. (1995), \\nat, 373, 127.\n",
      "\n",
      "Reid, M. J. (1993), \\araa, 31, 345.\n",
      "\n",
      "Rogers, A. E. E., Doeleman, S., Wright, M. C. H., Bower, G. C., Backer, D. C., Padin, S., Philips, J. A., Emerson, D. T., Greenhill, L., Moran, J. M., & Kellermann, K. I. (1994), \\apjl, 434, L59.\n",
      "\n",
      "Serabyn, E., Carlstrom, J., Lay, O., Lis, D. C., Hunter, T. R., Lacy, J. H., & Hills, R. E. (1997), \\apjl, 490, L77.\n",
      "\n",
      "\n"
     ]
    }
   ],
   "source": [
    "print(results.json()['export'])"
   ]
  },
  {
   "cell_type": "markdown",
   "metadata": {},
   "source": [
    "That should be everything you need to know to search for papers and export them to the format of your choice. If you need more help, check out the rest of our [API documentation](https://ui.adsabs.harvard.edu/help/api/) or [email us](mailto:adshelp@cfa.harvard.edu)."
   ]
  },
  {
   "cell_type": "code",
   "execution_count": null,
   "metadata": {},
   "outputs": [],
   "source": []
  }
 ],
 "metadata": {
  "kernelspec": {
   "display_name": "Python 3",
   "language": "python",
   "name": "python3"
  },
  "language_info": {
   "codemirror_mode": {
    "name": "ipython",
    "version": 3
   },
   "file_extension": ".py",
   "mimetype": "text/x-python",
   "name": "python",
   "nbconvert_exporter": "python",
   "pygments_lexer": "ipython3",
   "version": "3.8.1"
  }
 },
 "nbformat": 4,
 "nbformat_minor": 4
}
