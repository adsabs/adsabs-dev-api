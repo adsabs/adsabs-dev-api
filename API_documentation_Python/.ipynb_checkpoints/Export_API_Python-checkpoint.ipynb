{
 "cells": [
  {
   "cell_type": "markdown",
   "metadata": {},
   "source": [
    "## Export service\n",
    "This notebook explains how to use the API to retrieve data in BibTeX and other formats for one or more bibcodes. Examples here will be shown using Python with the use of the [requests](http://docs.python-requests.org/en/master/) library, though the same work could be done using the [unofficial Python ADS library](https://ads.readthedocs.io/en/latest/) or curl commands on the command line (see the \"API documentation - UNIX shell\" folder in this same repository).\n",
    "\n",
    "The **base_url** for export queries is: \n",
    "```\n",
    "https://api.adsabs.harvard.edu/v1/export/<format>\n",
    "``` \n",
    "\n",
    "where `<format>` should be replaced by the desired export format. For example, to get BibTeX for a set of records, send a request with the POST method to the URL `https://api.adsabs.harvard.edu/v1/export/bibtex`. The following formats are currently supported:\n",
    "* BibTeX (`/bibtex`)\n",
    "* BibTeX ABS (`/bibtexabs`)\n",
    "* ADS (`/ads`)\n",
    "* EndNote (`/endnote`)\n",
    "* ProCite (`/procite`)\n",
    "* RIS (`/ris`)\n",
    "* RefWorks (`/refworks`)\n",
    "* RSS (`/rss`)\n",
    "* MEDLARS (`/medlars`)\n",
    "* DC-XML (`/dcxml`)\n",
    "* REF-XML (`/refxml`)\n",
    "* REFABS-XML (`/refabsxml`)\n",
    "* AASTeX (`/aastex`)\n",
    "* Icarus (`/icarus`)\n",
    "* MNRAS (`/mnras`)\n",
    "* Solar Physics (`/soph`)\n",
    "* VOTable (`/votable`)\n",
    "* Custom format (`/custom`)\n",
    "\n",
    "The POST payload (set via the `data` keyword) should be in serialized JSON format. We use the `json` library here to convert between Python dictionaries and JSON strings. For the export, the payload accepts the following keys: \n",
    "* `bibcode`: **required**; set the value to a list of the bibcodes to export\n",
    "* `sort`: optional; set the value to a combination of the field to sort on (see the Fields section in the Search API notebook), followed by a space plus `asc` or `desc` to indicate ascending or descending order. If the sort order is not specified, the default sort is by date, then by bibcode \n",
    "* `format`: **required when using custom format**; set the value to a string with the [desired formatting codes](http://adsabs.github.io/help/actions/export)\n",
    "\n",
    "For example, for most formats the POST payload would take this format: `{\"bibcode\": [\"<bibcode1>\",\"<bibcode2>\", ...], \"sort\": \"<field> <asc or desc>\"}`. For custom format exports, the POST payload would take this format: `{\"bibcode\": [\"<bibcode1>\",\"<bibcode2>\", ...], \"sort\": \"<field> <asc or desc>\", \"format\": \"<custom format string>\"}`\n",
    "\n",
    "The complete request should also include your personal API access token, as described in the top-level [README](https://github.com/adsabs/adsabs-dev-api/blob/master/README.md). "
   ]
  },
  {
   "cell_type": "code",
   "execution_count": 1,
   "metadata": {},
   "outputs": [],
   "source": [
    "# import the requests package and set your token in a variable for later use\n",
    "import requests\n",
    "import json\n",
    "\n",
    "token=\"your-token-here\""
   ]
  },
  {
   "cell_type": "markdown",
   "metadata": {},
   "source": [
    "### Examples"
   ]
  },
  {
   "cell_type": "code",
   "execution_count": 2,
   "metadata": {},
   "outputs": [
    {
     "data": {
      "text/plain": [
       "'@ARTICLE{2015RaSc...50..916A,\\n       author = {{Ads}, A.~G. and {Bergad{\\\\`a}}, P. and {Regu{\\\\\\'e}}, J.~R. and {Alsina-Pag{\\\\`e}s}, R.~M. and {Pijoan}, J.~L. and {Altadill}, D. and {Badia}, D. and {Graells}, S.},\\n        title = \"{Vertical and oblique ionospheric soundings over the long haul HF link between Antarctica and Spain}\",\\n      journal = {Radio Science},\\n     keywords = {VIS, OIS, ionosphere},\\n         year = 2015,\\n        month = sep,\\n       volume = {50},\\n       number = {9},\\n        pages = {916-930},\\n          doi = {10.1002/2015RS005773},\\n       adsurl = {https://ui.adsabs.harvard.edu/abs/2015RaSc...50..916A},\\n      adsnote = {Provided by the SAO/NASA Astrophysics Data System}\\n}\\n\\n'"
      ]
     },
     "execution_count": 2,
     "metadata": {},
     "output_type": "execute_result"
    }
   ],
   "source": [
    "# get the BibTeX entry for a single bibcode\n",
    "# note that the GET method can be used for a single bibcode, as shown\n",
    "results = requests.get(\"https://api.adsabs.harvard.edu/v1/export/bibtex/2015RaSc...50..916A\", \\\n",
    "                       headers={'Authorization': 'Bearer ' + token})\n",
    "results.text"
   ]
  },
  {
   "cell_type": "code",
   "execution_count": 3,
   "metadata": {},
   "outputs": [
    {
     "data": {
      "text/plain": [
       "{'msg': 'Retrieved 3 abstracts, starting with number 1.',\n",
       " 'export': '\\\\bibitem[Accomazzi et al.(2000)]{2000A&AS..143...85A} Accomazzi, A., Eichhorn, G., Kurtz, M.~J., et al.\\\\ 2000, \\\\aaps, 143, 85. doi:10.1051/aas:2000172\\n\\\\bibitem[Grant et al.(2000)]{2000A&AS..143..111G} Grant, C.~S., Accomazzi, A., Eichhorn, G., et al.\\\\ 2000, \\\\aaps, 143, 111. doi:10.1051/aas:2000173\\n\\\\bibitem[Kurtz et al.(2000)]{2000A&AS..143...41K} Kurtz, M.~J., Eichhorn, G., Accomazzi, A., et al.\\\\ 2000, \\\\aaps, 143, 41. doi:10.1051/aas:2000170\\n'}"
      ]
     },
     "execution_count": 3,
     "metadata": {},
     "output_type": "execute_result"
    }
   ],
   "source": [
    "# get the AASTeX entries for multiple bibcodes, sorting by first author\n",
    "payload = {\"bibcode\": [\"2000A&AS..143...41K\", \"2000A&AS..143...85A\", \"2000A&AS..143..111G\"],\n",
    "           \"sort\": \"first_author asc\"\n",
    "          }\n",
    "results = requests.post(\"https://api.adsabs.harvard.edu/v1/export/aastex\", \\\n",
    "                       headers={'Authorization': 'Bearer ' + token}, \\\n",
    "                       data=json.dumps(payload))\n",
    "results.json()"
   ]
  },
  {
   "cell_type": "code",
   "execution_count": 4,
   "metadata": {
    "scrolled": true
   },
   "outputs": [
    {
     "name": "stdout",
     "output_type": "stream",
     "text": [
      "{\"msg\": \"Retrieved 3 abstracts, starting with number 1.\", \"export\": \"Accomazzi, Eichhorn, Kurtz, Grant \\\\& Murray 2000\\nGrant, Accomazzi, Eichhorn, Kurtz \\\\& Murray 2000\\nKurtz, Eichhorn, Accomazzi, Grant, Murray \\\\& Watson 2000\\n\\n\"}"
     ]
    },
    {
     "name": "stderr",
     "output_type": "stream",
     "text": [
      "  % Total    % Received % Xferd  Average Speed   Time    Time     Time  Current\n",
      "                                 Dload  Upload   Total   Spent    Left  Speed\n",
      "\r",
      "  0     0    0     0    0     0      0      0 --:--:-- --:--:-- --:--:--     0\r",
      "100   363  100   234  100   129    234    129  0:00:01 --:--:--  0:00:01  1354\n"
     ]
    }
   ],
   "source": [
    "# same as above, but exported using a custom format\n",
    "payload = {\"format\": \"%m %Y\",\n",
    "           \"bibcode\": [\"2000A&AS..143...41K\", \"2000A&AS..143...85A\", \"2000A&AS..143..111G\"],\n",
    "           \"sort\": \"first_author asc\"\n",
    "          }\n",
    "results = requests.post(\"https://api.adsabs.harvard.edu/v1/export/aastex\", \\\n",
    "                       headers={'Authorization': 'Bearer ' + token}, \\\n",
    "                       data=json.dumps(payload))\n",
    "results.json()"
   ]
  }
 ],
 "metadata": {
  "kernelspec": {
   "display_name": "Python 3",
   "language": "python",
   "name": "python3"
  },
  "language_info": {
   "codemirror_mode": {
    "name": "ipython",
    "version": 3
   },
   "file_extension": ".py",
   "mimetype": "text/x-python",
   "name": "python",
   "nbconvert_exporter": "python",
   "pygments_lexer": "ipython3",
   "version": "3.8.1"
  }
 },
 "nbformat": 4,
 "nbformat_minor": 2
}
